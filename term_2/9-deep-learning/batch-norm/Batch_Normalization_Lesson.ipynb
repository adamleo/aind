{
 "cells": [
  {
   "cell_type": "code",
   "execution_count": 3,
   "metadata": {},
   "outputs": [
    {
     "data": {
      "text/html": [
       "<style>body{font-family: 'Verdana';font-size: 14px;}</style>"
      ],
      "text/plain": [
       "<IPython.core.display.HTML object>"
      ]
     },
     "execution_count": 3,
     "metadata": {},
     "output_type": "execute_result"
    }
   ],
   "source": [
    "from IPython.core.display import HTML; HTML(\"\"\"<style>body{font-family: 'Verdana';font-size: 14px;}</style>\"\"\")"
   ]
  },
  {
   "cell_type": "markdown",
   "metadata": {},
   "source": [
    "# Batch Normalization – Lesson\n",
    "\n",
    "1. [What is it?](#theory)\n",
    "2. [What are it's benefits?](#benefits)\n",
    "3. [How do we add it to a network?](#implementation_1)\n",
    "4. [Let's see it work!](#demos)\n",
    "5. [What are you hiding?](#implementation_2)\n",
    "\n",
    "# What is Batch Normalization?<a id='theory'></a>\n",
    "\n",
    "Batch normalization was introduced in Sergey Ioffe's and Christian Szegedy's 2015 paper [Batch Normalization: Accelerating Deep Network Training by Reducing Internal Covariate Shift](https://arxiv.org/pdf/1502.03167.pdf). The idea is that, instead of just normalizing the inputs to the network, we normalize the inputs to _layers within_ the network. It's called \"batch\" normalization because during training, we normalize each layer's inputs by using the mean and variance of the values in the current mini-batch.\n",
    "\n",
    "Why might this help? Well, we know that normalizing the inputs to a _network_ helps the network learn. But a network is a series of layers, where the output of one layer becomes the input to another. That means we can think of any layer in a neural network as the _first_ layer of a smaller network.\n",
    "\n",
    "For example, imagine a 3 layer network. Instead of just thinking of it as a single network with inputs, layers, and outputs, think of the output of layer 1 as the input to a two layer network. This two layer network would consist of layers 2 and 3 in our original network. \n",
    "\n",
    "Likewise, the output of layer 2 can be thought of as the input to a single layer network, consisting only of layer 3.\n",
    "\n",
    "When you think of it like that - as a series of neural networks feeding into each other - then it's easy to imagine how normalizing the inputs to each layer would help. It's just like normalizing the inputs to any other neural network, but you're doing it at every layer (sub-network).\n",
    "\n",
    "Beyond the intuitive reasons, there are good mathematical reasons why it helps the network learn better, too. It helps combat what the authors call _internal covariate shift_. This discussion is best handled [in the paper](https://arxiv.org/pdf/1502.03167.pdf) and in [Deep Learning](http://www.deeplearningbook.org) a book you can read online written by Ian Goodfellow, Yoshua Bengio, and Aaron Courville. Specifically, check out the batch normalization section of [Chapter 8: Optimization for Training Deep Models](http://www.deeplearningbook.org/contents/optimization.html)."
   ]
  },
  {
   "cell_type": "markdown",
   "metadata": {},
   "source": [
    "# Benefits of Batch Normalization<a id=\"benefits\"></a>\n",
    "\n",
    "Batch normalization optimizes network training. It has been shown to have several benefits:\n",
    "1. **Networks train faster** – Each training _iteration_ will actually be slower because of the extra calculations during the forward pass and the additional hyperparameters to train during back propagation. However, it should converge much more quickly, so training should be faster overall. \n",
    "2. **Allows higher learning rates** – Gradient descent usually requires small learning rates for the network to converge. And as networks get deeper, their gradients get smaller during back propagation so they require even more iterations. Using batch normalization allows us to use much higher learning rates, which further increases the speed at which networks train. \n",
    "3. **Makes weights easier to initialize** – Weight initialization can be difficult, and it's even more difficult when creating deeper networks. Batch normalization seems to allow us to be much less careful about choosing our initial starting weights.  \n",
    "4. **Makes more activation functions viable** – Some activation functions do not work well in some situations. Sigmoids lose their gradient pretty quickly, which means they can't be used in deep networks. And ReLUs often die out during training, where they stop learning completely, so we need to be careful about the range of values fed into them. Because batch normalization regulates the values going into each activation function, non-linearlities that don't seem to work well in deep networks actually become viable again.  \n",
    "5. **Simplifies the creation of deeper networks** – Because of the first 4 items listed above, it is easier to build and faster to train deeper neural networks when using batch normalization. And it's been shown that deeper networks generally produce better results, so that's great.\n",
    "6. **Provides a bit of regularlization** – Batch normalization adds a little noise to your network. In some cases, such as in Inception modules, batch normalization has been shown to work as well as dropout. But in general, consider batch normalization as a bit of extra regularization, possibly allowing you to reduce some of the dropout you might add to a network. \n",
    "7. **May give better results overall** – Some tests seem to show batch normalization actually improves the training results. However, it's really an optimization to help train faster, so you shouldn't think of it as a way to make your network better. But since it lets you train networks faster, that means you can iterate over more designs more quickly. It also lets you build deeper networks, which are usually better. So when you factor in everything, you're probably going to end up with better results if you build your networks with batch normalization."
   ]
  },
  {
   "cell_type": "markdown",
   "metadata": {},
   "source": [
    "# Batch Normalization in TensorFlow<a id=\"implementation_1\"></a>\n",
    "\n",
    "This section of the notebook shows you one way to add batch normalization to a neural network built in TensorFlow. \n",
    "\n",
    "The following cell imports the packages we need in the notebook and loads the MNIST dataset to use in our experiments. However, the `tensorflow` package contains all the code you'll actually need for batch normalization."
   ]
  },
  {
   "cell_type": "code",
   "execution_count": 4,
   "metadata": {},
   "outputs": [
    {
     "name": "stdout",
     "output_type": "stream",
     "text": [
      "Extracting ../MNIST_data/train-images-idx3-ubyte.gz\n",
      "Extracting ../MNIST_data/train-labels-idx1-ubyte.gz\n",
      "Extracting ../MNIST_data/t10k-images-idx3-ubyte.gz\n",
      "Extracting ../MNIST_data/t10k-labels-idx1-ubyte.gz\n"
     ]
    }
   ],
   "source": [
    "# Import necessary packages\n",
    "import tensorflow as tf\n",
    "import tqdm\n",
    "import numpy as np\n",
    "import matplotlib.pyplot as plt\n",
    "%matplotlib inline\n",
    "\n",
    "# Import MNIST data so we have something for our experiments\n",
    "from tensorflow.examples.tutorials.mnist import input_data\n",
    "mnist = input_data.read_data_sets(\"../datasets/MNIST_data/\", one_hot=True)"
   ]
  },
  {
   "cell_type": "markdown",
   "metadata": {},
   "source": [
    "### Neural network classes for testing\n",
    "\n",
    "The following class, `NeuralNet`, allows us to create identical neural networks with and without batch normalization. The code is heavily documented, but there is also some additional discussion later. You do not need to read through it all before going through the rest of the notebook, but the comments within the code blocks may answer some of your questions.\n",
    "\n",
    "*About the code:*\n",
    ">This class is not meant to represent TensorFlow best practices – the design choices made here are to support the discussion related to batch normalization.\n",
    "\n",
    ">It's also important to note that we use the well-known MNIST data for these examples, but the networks we create are not meant to be good for performing handwritten character recognition. We chose this network architecture because it is similar to the one used in the original paper, which is complex enough to demonstrate some of the benefits of batch normalization while still being fast to train."
   ]
  },
  {
   "cell_type": "code",
   "execution_count": 5,
   "metadata": {},
   "outputs": [],
   "source": [
    "class NeuralNet:\n",
    "    \n",
    "    \"\"\"\n",
    "        Initializes this object, creating a TensorFlow graph using the given parameters.\n",
    "        \n",
    "        :param initial_weights: list of NumPy arrays or Tensors\n",
    "            Initial values for the weights for every layer in the network. We pass these in\n",
    "            so we can create multiple networks with the same starting weights to eliminate\n",
    "            training differences caused by random initialization differences.\n",
    "            The number of items in the list defines the number of layers in the network,\n",
    "            and the shapes of the items in the list define the number of nodes in each layer.\n",
    "            e.g. Passing in 3 matrices of shape (784, 256), (256, 100), and (100, 10) would \n",
    "            create a network with 784 inputs going into a hidden layer with 256 nodes,\n",
    "            followed by a hidden layer with 100 nodes, followed by an output layer with 10 nodes.\n",
    "            \n",
    "        :param activation_fn: Callable\n",
    "            The function used for the output of each hidden layer. The network will use the same\n",
    "            activation function on every hidden layer and no activate function on the output layer.\n",
    "            e.g. Pass tf.nn.relu to use ReLU activations on your hidden layers.\n",
    "            \n",
    "        :param use_batch_norm: bool\n",
    "            Pass True to create a network that uses batch normalization; False otherwise\n",
    "            Note: this network will not use batch normalization on layers that do not have an\n",
    "            activation function.\n",
    "    \"\"\"\n",
    "    def __init__(self, initial_weights, activation_fn, use_batch_norm):\n",
    "        \n",
    "        # Keep track of whether or not this network uses batch normalization.\n",
    "        self.use_batch_norm = use_batch_norm\n",
    "        self.name = \"With Batch Norm\" if use_batch_norm else \"Without Batch Norm\"\n",
    "\n",
    "        # Batch normalization needs to do different calculations during training and inference,\n",
    "        # so we use this placeholder to tell the graph which behavior to use.\n",
    "        self.is_training = tf.placeholder(tf.bool, name=\"is_training\")\n",
    "\n",
    "        # This list is just for keeping track of data we want to plot later.\n",
    "        # It doesn't actually have anything to do with neural nets or batch normalization.\n",
    "        self.training_accuracies = []\n",
    "\n",
    "        # Create the network graph, but it will not actually have any real values until after you\n",
    "        # call train or test\n",
    "        self.build_network(initial_weights, activation_fn)\n",
    "    \n",
    "    \n",
    "    \"\"\"\n",
    "        Build the graph. The graph still needs to be trained via the `train` method.\n",
    "        \n",
    "        :param initial_weights: list of NumPy arrays or Tensors\n",
    "            See __init__ for description. \n",
    "        :param activation_fn: Callable\n",
    "            See __init__ for description. \n",
    "    \"\"\"\n",
    "    def build_network(self, initial_weights, activation_fn):\n",
    "        \n",
    "        self.input_layer = tf.placeholder(tf.float32, [None, initial_weights[0].shape[0]])\n",
    "        layer_in = self.input_layer\n",
    "        \n",
    "        for weights in initial_weights[:-1]:\n",
    "            layer_in = self.fully_connected(layer_in, weights, activation_fn)\n",
    "        \n",
    "        self.output_layer = self.fully_connected(layer_in, initial_weights[-1])\n",
    "\n",
    "\n",
    "    \"\"\"\n",
    "        Creates a standard, fully connected layer. Its number of inputs and outputs will be\n",
    "        defined by the shape of `initial_weights`, and its starting weight values will be\n",
    "        taken directly from that same parameter. If `self.use_batch_norm` is True, this\n",
    "        layer will include batch normalization, otherwise it will not. \n",
    "        \n",
    "        :param layer_in: Tensor\n",
    "            The Tensor that feeds into this layer. It's either the input to the network or the output\n",
    "            of a previous layer.\n",
    "        :param initial_weights: NumPy array or Tensor\n",
    "            Initial values for this layer's weights. The shape defines the number of nodes in the layer.\n",
    "            e.g. Passing in 3 matrix of shape (784, 256) would create a layer with 784 inputs and 256 \n",
    "            outputs. \n",
    "        :param activation_fn: Callable or None (default None)\n",
    "            The non-linearity used for the output of the layer. If None, this layer will not include \n",
    "            batch normalization, regardless of the value of `self.use_batch_norm`. \n",
    "            e.g. Pass tf.nn.relu to use ReLU activations on your hidden layers.\n",
    "    \"\"\"\n",
    "    def fully_connected(self, layer_in, initial_weights, activation_fn=None):\n",
    "        \n",
    "        # Since this class supports both options, only use batch normalization when\n",
    "        # requested. However, do not use it on the final layer, which we identify\n",
    "        # by its lack of an activation function.\n",
    "        if self.use_batch_norm and activation_fn:\n",
    "            \n",
    "            # Batch normalization uses weights as usual, but does NOT add a bias term. This is because \n",
    "            # its calculations include gamma and beta variables that make the bias term unnecessary.\n",
    "            # (See later in the notebook for more details.)\n",
    "            weights       = tf.Variable(initial_weights)\n",
    "            linear_output = tf.matmul(layer_in, weights)\n",
    "\n",
    "            # Apply batch normalization to the linear combination of the inputs and weights\n",
    "            batch_normalized_output = tf.layers.batch_normalization(linear_output, training=self.is_training)\n",
    "\n",
    "            # Now apply the activation function, *after* the normalization.\n",
    "            return activation_fn(batch_normalized_output)\n",
    "        \n",
    "        else:\n",
    "            \n",
    "            # When not using batch normalization, create a standard layer that multiplies\n",
    "            # the inputs and weights, adds a bias, and optionally passes the result \n",
    "            # through an activation function.  \n",
    "            weights = tf.Variable(initial_weights)\n",
    "            biases  = tf.Variable(tf.zeros([initial_weights.shape[-1]]))\n",
    "            linear_output = tf.add(tf.matmul(layer_in, weights), biases)\n",
    "            \n",
    "            return linear_output if not activation_fn else activation_fn(linear_output)\n",
    "\n",
    "\n",
    "    \"\"\"\n",
    "        Trains the model on the MNIST training dataset.\n",
    "        \n",
    "        :param session: Session\n",
    "            Used to run training graph operations.\n",
    "        :param learning_rate: float\n",
    "            Learning rate used during gradient descent.\n",
    "        :param training_batches: int\n",
    "            Number of batches to train.\n",
    "        :param batches_per_sample: int\n",
    "            How many batches to train before sampling the validation accuracy.\n",
    "        :param save_model_as: string or None (default None)\n",
    "            Name to use if you want to save the trained model.\n",
    "    \"\"\"\n",
    "    def train(self, session, learning_rate, training_batches, batches_per_sample, save_model_as=None):\n",
    "        \n",
    "        # This placeholder will store the target labels for each mini batch\n",
    "        labels = tf.placeholder(tf.float32, [None, 10])\n",
    "\n",
    "        # Define loss and optimizer\n",
    "        cross_entropy = tf.reduce_mean(\n",
    "            tf.nn.softmax_cross_entropy_with_logits(labels=labels, logits=self.output_layer)\n",
    "        )\n",
    "\n",
    "        # Define operations for testing\n",
    "        correct_prediction = tf.equal(tf.argmax(self.output_layer, 1), tf.argmax(labels, 1))\n",
    "        accuracy = tf.reduce_mean(tf.cast(correct_prediction, tf.float32))\n",
    "\n",
    "        if self.use_batch_norm:\n",
    "            # If we don't include the update ops as dependencies on the train step, the \n",
    "            # tf.layers.batch_normalization layers won't update their population statistics,\n",
    "            # which will cause the model to fail at inference time\n",
    "            with tf.control_dependencies(tf.get_collection(tf.GraphKeys.UPDATE_OPS)):\n",
    "                train_step = tf.train.GradientDescentOptimizer(learning_rate).minimize(cross_entropy)\n",
    "\n",
    "        else:\n",
    "            train_step = tf.train.GradientDescentOptimizer(learning_rate).minimize(cross_entropy)\n",
    "        \n",
    "        # Train for the appropriate number of batches. (tqdm is only for a nice timing display)\n",
    "        for i in tqdm.tqdm(range(training_batches)):\n",
    "            \n",
    "            # We use batches of 60 just because the original paper did. You can use any size batch you like.\n",
    "            batch_xs, batch_ys = mnist.train.next_batch(60)\n",
    "            session.run(train_step, feed_dict={self.input_layer: batch_xs,\n",
    "                                               labels: batch_ys,\n",
    "                                               self.is_training: True})\n",
    "        \n",
    "            # Periodically test accuracy against the 5k validation images and store it for plotting later.\n",
    "            if i % batches_per_sample == 0:\n",
    "                \n",
    "                test_accuracy = session.run(accuracy, feed_dict={self.input_layer: mnist.validation.images,\n",
    "                                                                 labels: mnist.validation.labels,\n",
    "                                                                 self.is_training: False})\n",
    "                \n",
    "                self.training_accuracies.append(test_accuracy)\n",
    "\n",
    "        # After training, report accuracy against test data\n",
    "        test_accuracy = session.run(accuracy, feed_dict={self.input_layer: mnist.validation.images,\n",
    "                                                         labels: mnist.validation.labels,\n",
    "                                                         self.is_training: False})\n",
    "        \n",
    "        print('{}: After training, final accuracy on validation set = {}'.format(self.name, test_accuracy))\n",
    "\n",
    "        \n",
    "        # If you want to use this model later for inference instead of having to retrain it,\n",
    "        # just construct it with the same parameters and then pass this file to the 'test' function\n",
    "        if save_model_as:\n",
    "            tf.train.Saver().save(session, save_model_as)\n",
    "\n",
    "\n",
    "    \"\"\"\n",
    "        Trains a trained model on the MNIST testing dataset.\n",
    "\n",
    "        :param session: Session\n",
    "            Used to run the testing graph operations.\n",
    "        :param test_training_accuracy: bool (default False)\n",
    "            If True, perform inference with batch normalization using batch mean and variance;\n",
    "            if False, perform inference with batch normalization using estimated population mean and variance.\n",
    "            Note: in real life, *always* perform inference using the population mean and variance.\n",
    "                  This parameter exists just to support demonstrating what happens if you don't.\n",
    "        :param include_individual_predictions: bool (default True)\n",
    "            This function always performs an accuracy test against the entire test set. But if this parameter\n",
    "            is True, it performs an extra test, doing 200 predictions one at a time, and displays the results\n",
    "            and accuracy.\n",
    "        :param restore_from: string or None (default None)\n",
    "            Name of a saved model if you want to test with previously saved weights.\n",
    "    \"\"\"    \n",
    "    def test(self, session, test_training_accuracy=False, include_individual_predictions=False, restore_from=None):\n",
    "        \n",
    "        # This placeholder will store the true labels for each mini batch\n",
    "        labels = tf.placeholder(tf.float32, [None, 10])\n",
    "\n",
    "        # Define operations for testing\n",
    "        correct_prediction = tf.equal(tf.argmax(self.output_layer, 1), tf.argmax(labels, 1))\n",
    "        accuracy = tf.reduce_mean(tf.cast(correct_prediction, tf.float32))\n",
    "\n",
    "        # If provided, restore from a previously saved model\n",
    "        if restore_from:\n",
    "            tf.train.Saver().restore(session, restore_from)\n",
    "\n",
    "        # Test against all of the MNIST test data\n",
    "        test_accuracy = session.run(accuracy, feed_dict={self.input_layer: mnist.test.images,\n",
    "                                                         labels: mnist.test.labels,\n",
    "                                                         self.is_training: test_training_accuracy})\n",
    "        \n",
    "        print('-'*75)\n",
    "        print('{}: Accuracy on full test set = {}'.format(self.name, test_accuracy))\n",
    "\n",
    "        # If requested, perform tests predicting individual values rather than batches\n",
    "        if include_individual_predictions:\n",
    "            predictions = []\n",
    "            correct = 0\n",
    "\n",
    "            # Do 200 predictions, 1 at a time\n",
    "            for i in range(200):\n",
    "                # This is a normal prediction using an individual test case. However, notice\n",
    "                # we pass `test_training_accuracy` to `feed_dict` as the value for `self.is_training`.\n",
    "                # Remember that will tell it whether it should use the batch mean & variance or\n",
    "                # the population estimates that were calucated while training the model.\n",
    "                pred, corr = session.run([tf.arg_max(self.output_layer,1), accuracy],\n",
    "                                         feed_dict={self.input_layer: [mnist.test.images[i]],\n",
    "                                                    labels: [mnist.test.labels[i]],\n",
    "                                                    self.is_training: test_training_accuracy})\n",
    "                correct += corr\n",
    "\n",
    "                predictions.append(pred[0])\n",
    "\n",
    "            print(\"200 Predictions:\", predictions)\n",
    "            print(\"Accuracy on 200 samples:\", correct / 200)"
   ]
  },
  {
   "cell_type": "markdown",
   "metadata": {},
   "source": [
    "There are quite a few comments in the code, so those should answer most of your questions. However, let's take a look at the most important lines.\n",
    "\n",
    "We add batch normalization to layers inside the `fully_connected` function. Here are some important points about that code:\n",
    "1. Layers with batch normalization do not include a bias term.\n",
    "2. We use TensorFlow's [`tf.layers.batch_normalization`](https://www.tensorflow.org/api_docs/python/tf/layers/batch_normalization) function to handle the math. (We show lower-level ways to do this [later in the notebook](#implementation_2).)\n",
    "3. We tell `tf.layers.batch_normalization` whether or not the network is training. This is an important step we'll talk about later.\n",
    "4. We add the normalization **before** calling the activation function.\n",
    "\n",
    "In addition to that code, the training step is wrapped in the following `with` statement:\n",
    "```python\n",
    "with tf.control_dependencies(tf.get_collection(tf.GraphKeys.UPDATE_OPS)):\n",
    "```\n",
    "This line actually works in conjunction with the `training` parameter we pass to `tf.layers.batch_normalization`. Without it, TensorFlow's batch normalization layer will not operate correctly during inference.\n",
    "\n",
    "Finally, whenever we train the network or perform inference, we use the `feed_dict` to set `self.is_training` to `True` or `False`, respectively, like in the following line:\n",
    "```python\n",
    "session.run(train_step, feed_dict={self.input_layer: batch_xs, \n",
    "                                               labels: batch_ys, \n",
    "                                               self.is_training: True})\n",
    "```\n",
    "We'll go into more details later, but next we want to show some experiments that use this code and test networks with and without batch normalization."
   ]
  },
  {
   "cell_type": "markdown",
   "metadata": {},
   "source": [
    "# Batch Normalization Demos<a id='demos'></a>\n",
    "This section of the notebook trains various networks with and without batch normalization to demonstrate some of the benefits mentioned earlier. \n",
    "\n",
    "We'd like to thank the author of this blog post [Implementing Batch Normalization in TensorFlow](http://r2rt.com/implementing-batch-normalization-in-tensorflow.html). That post provided the idea of - and some of the code for - plotting the differences in accuracy during training, along with the idea for comparing multiple networks using the same initial weights."
   ]
  },
  {
   "cell_type": "markdown",
   "metadata": {},
   "source": [
    "## Code to support testing\n",
    "\n",
    "The following two functions support the demos we run in the notebook. \n",
    "\n",
    "The first function, `plot_training_accuracies`, simply plots the values found in the `training_accuracies` lists of the `NeuralNet` objects passed to it. If you look at the `train` function in `NeuralNet`, you'll see it that while it's training the network, it periodically measures validation accuracy and stores the results in that list. It does that just to support these plots.\n",
    "\n",
    "The second function, `train_and_test`, creates two neural nets - one with and one without batch normalization. It then trains them both and tests them, calling `plot_training_accuracies` to plot how their accuracies changed over the course of training. The really imporant thing about this function is that it initializes the starting weights for the networks _outside_ of the networks and then passes them in. This lets it train both networks from the exact same starting weights, which eliminates performance differences that might result from (un)lucky initial weights."
   ]
  },
  {
   "cell_type": "code",
   "execution_count": 6,
   "metadata": {},
   "outputs": [],
   "source": [
    "\"\"\"\n",
    "    Displays a plot of the accuracies calculated during training to demonstrate\n",
    "    how many iterations it took for the model(s) to converge.\n",
    "    \n",
    "    :param args: One or more NeuralNet objects\n",
    "        You can supply any number of NeuralNet objects as unnamed arguments \n",
    "        and this will display their training accuracies. Be sure to call `train` \n",
    "        the NeuralNets before calling this function.\n",
    "    :param kwargs: \n",
    "        You can supply any named parameters here, but `batches_per_sample` is the only\n",
    "        one we look for. It should match the `batches_per_sample` value you passed\n",
    "        to the `train` function.\n",
    "\"\"\"\n",
    "def plot_training_accuracies(*args, **kwargs):\n",
    "    \n",
    "    fig, ax = plt.subplots()\n",
    "\n",
    "    batches_per_sample = kwargs['batches_per_sample']\n",
    "    \n",
    "    for nn in args:\n",
    "        ax.plot(range(0, len(nn.training_accuracies) * batches_per_sample,batches_per_sample),\n",
    "                nn.training_accuracies, label=nn.name)\n",
    "        \n",
    "    ax.set_xlabel('Training steps')\n",
    "    ax.set_ylabel('Accuracy')\n",
    "    ax.set_title('Validation Accuracy During Training')\n",
    "    ax.legend(loc=4)\n",
    "    ax.set_ylim([0,1])\n",
    "    plt.yticks(np.arange(0, 1.1, 0.1))\n",
    "    plt.grid(True)\n",
    "    plt.show()\n",
    "\n",
    "    \n",
    "\n",
    "\"\"\"\n",
    "    Creates two networks, one with and one without batch normalization, then trains them\n",
    "    with identical starting weights, layers, batches, etc. Finally tests and plots their accuracies.\n",
    "    \n",
    "    :param use_bad_weights: bool\n",
    "        If True, initialize the weights of both networks to wildly inappropriate weights;\n",
    "        if False, use reasonable starting weights.\n",
    "    :param learning_rate: float\n",
    "        Learning rate used during gradient descent.\n",
    "    :param activation_fn: Callable\n",
    "        The function used for the output of each hidden layer. The network will use the same\n",
    "        activation function on every hidden layer and no activate function on the output layer.\n",
    "        e.g. Pass tf.nn.relu to use ReLU activations on your hidden layers.\n",
    "    :param training_batches: (default 50000)\n",
    "        Number of batches to train.\n",
    "    :param batches_per_sample: (default 500)\n",
    "        How many batches to train before sampling the validation accuracy.\n",
    "\"\"\"\n",
    "def train_and_test(use_bad_weights, learning_rate, activation_fn, training_batches=50000, batches_per_sample=500):\n",
    "    \n",
    "    # Use identical starting weights for each network to eliminate differences in\n",
    "    # weight initialization as a cause for differences seen in training performance\n",
    "    #\n",
    "    # Note: The networks will use these weights to define the number of and shapes of\n",
    "    #       its layers. The original batch normalization paper used 3 hidden layers\n",
    "    #       with 100 nodes in each, followed by a 10 node output layer. These values\n",
    "    #       build such a network, but feel free to experiment with different choices.\n",
    "    #       However, the input size should always be 784 and the final output should be 10.\n",
    "    if use_bad_weights:\n",
    "        \n",
    "        # These weights should be horrible because they have such a large standard deviation\n",
    "        weights = [np.random.normal(size=(784,100), scale=5.0).astype(np.float32),\n",
    "                   np.random.normal(size=(100,100), scale=5.0).astype(np.float32),\n",
    "                   np.random.normal(size=(100,100), scale=5.0).astype(np.float32),\n",
    "                   np.random.normal(size=(100, 10), scale=5.0).astype(np.float32)\n",
    "                  ]\n",
    "    else:\n",
    "        # These weights should be good because they have such a small standard deviation\n",
    "        weights = [np.random.normal(size=(784,100), scale=0.05).astype(np.float32),\n",
    "                   np.random.normal(size=(100,100), scale=0.05).astype(np.float32),\n",
    "                   np.random.normal(size=(100,100), scale=0.05).astype(np.float32),\n",
    "                   np.random.normal(size=(100, 10), scale=0.05).astype(np.float32)\n",
    "                  ]\n",
    "\n",
    "    # Just to make sure the TensorFlow's default graph is empty before we start another\n",
    "    # test, because we don't bother using different graphs or scoping and naming \n",
    "    # elements carefully in this sample code.\n",
    "    tf.reset_default_graph()\n",
    "\n",
    "    # build two versions of same network, 1 without and 1 with batch normalization\n",
    "    nn = NeuralNet(weights, activation_fn, False)\n",
    "    bn = NeuralNet(weights, activation_fn, True)\n",
    "    \n",
    "    \n",
    "    # train and test the two models\n",
    "    with tf.Session() as sess:\n",
    "        \n",
    "        tf.global_variables_initializer().run()\n",
    "\n",
    "        nn.train(sess, learning_rate, training_batches, batches_per_sample)\n",
    "        bn.train(sess, learning_rate, training_batches, batches_per_sample)\n",
    "        nn.test(sess)\n",
    "        bn.test(sess)\n",
    "    \n",
    "    # Display a graph of how validation accuracies changed during training\n",
    "    # so we can compare how the models trained and when they converged\n",
    "    plot_training_accuracies(nn, bn, batches_per_sample=batches_per_sample)"
   ]
  },
  {
   "cell_type": "markdown",
   "metadata": {},
   "source": [
    "## Comparisons between identical networks, with and without batch normalization\n",
    "\n",
    "The next series of cells train networks with various settings to show the differences with and without batch normalization. They are meant to clearly demonstrate the effects of batch normalization. We include a deeper discussion of batch normalization later in the notebook."
   ]
  },
  {
   "cell_type": "markdown",
   "metadata": {},
   "source": [
    "**The following creates two networks using a ReLU activation function, a learning rate of 0.01, and reasonable starting weights.**"
   ]
  },
  {
   "cell_type": "code",
   "execution_count": 7,
   "metadata": {},
   "outputs": [
    {
     "name": "stderr",
     "output_type": "stream",
     "text": [
      "100%|██████████| 50000/50000 [01:25<00:00, 586.76it/s]\n"
     ]
    },
    {
     "name": "stdout",
     "output_type": "stream",
     "text": [
      "Without Batch Norm: After training, final accuracy on validation set = 0.9742000102996826\n"
     ]
    },
    {
     "name": "stderr",
     "output_type": "stream",
     "text": [
      "100%|██████████| 50000/50000 [03:27<00:00, 240.98it/s]\n"
     ]
    },
    {
     "name": "stdout",
     "output_type": "stream",
     "text": [
      "With Batch Norm: After training, final accuracy on validation set = 0.9833999872207642\n",
      "---------------------------------------------------------------------------\n",
      "Without Batch Norm: Accuracy on full test set = 0.9718999862670898\n",
      "---------------------------------------------------------------------------\n",
      "With Batch Norm: Accuracy on full test set = 0.9790999889373779\n"
     ]
    },
    {
     "data": {
      "image/png": "[encoded data removed]",
      "text/plain": [
       "<matplotlib.figure.Figure at 0x1330bb860>"
      ]
     },
     "metadata": {},
     "output_type": "display_data"
    }
   ],
   "source": [
    "train_and_test(False, 0.01, tf.nn.relu)"
   ]
  },
  {
   "cell_type": "markdown",
   "metadata": {},
   "source": [
    "As expected, both networks train well and eventually reach similar test accuracies. However, notice that the model with batch normalization converges slightly faster than the other network, reaching accuracies over 90% almost immediately and nearing its max acuracy in 10 or 15 thousand iterations. The other network takes about 3 thousand iterations to reach 90% and doesn't near its best accuracy until 30 thousand or more iterations.\n",
    "\n",
    "If you look at the raw speed, you can see that without batch normalization we were computing over 1100 batches per second, whereas with batch normalization that goes down to just over 500. However, batch normalization allows us to perform fewer iterations and converge in less time over all. (We only trained for 50 thousand batches here so we could plot the comparison.)"
   ]
  },
  {
   "cell_type": "markdown",
   "metadata": {},
   "source": [
    "**The following creates two networks with the same hyperparameters used in the previous example, but only trains for 2000 iterations.**"
   ]
  },
  {
   "cell_type": "code",
   "execution_count": 8,
   "metadata": {},
   "outputs": [
    {
     "name": "stderr",
     "output_type": "stream",
     "text": [
      "100%|██████████| 2000/2000 [00:04<00:00, 467.48it/s]\n"
     ]
    },
    {
     "name": "stdout",
     "output_type": "stream",
     "text": [
      "Without Batch Norm: After training, final accuracy on validation set = 0.8208000063896179\n"
     ]
    },
    {
     "name": "stderr",
     "output_type": "stream",
     "text": [
      "100%|██████████| 2000/2000 [00:09<00:00, 202.68it/s]\n"
     ]
    },
    {
     "name": "stdout",
     "output_type": "stream",
     "text": [
      "With Batch Norm: After training, final accuracy on validation set = 0.954800009727478\n",
      "---------------------------------------------------------------------------\n",
      "Without Batch Norm: Accuracy on full test set = 0.8185999989509583\n",
      "---------------------------------------------------------------------------\n",
      "With Batch Norm: Accuracy on full test set = 0.9483000040054321\n"
     ]
    },
    {
     "data": {
      "image/png": "[encoded data removed]",
      "text/plain": [
       "<matplotlib.figure.Figure at 0x1261a6cf8>"
      ]
     },
     "metadata": {},
     "output_type": "display_data"
    }
   ],
   "source": [
    "train_and_test(False, 0.01, tf.nn.relu, 2000, 50)"
   ]
  },
  {
   "cell_type": "markdown",
   "metadata": {},
   "source": [
    "As you can see, using batch normalization produces a model with over 95% accuracy in only 2000 batches, and it was above 90% at somewhere around 500 batches. Without batch normalization, the model takes 1750 iterations just to hit 80% – the network with batch normalization hits that mark after around 200 iterations! (Note: if you run the code yourself, you'll see slightly different results each time because the starting weights - while the same for each model - are different for each run.)\n",
    "\n",
    "In the above example, you should also notice that the networks trained fewer batches per second then what you saw in the previous example. That's because much of the time we're tracking is actually spent periodically performing inference to collect data for the plots. In this example we perform that inference every 50 batches instead of every 500, so generating the plot for this example requires 10 times the overhead for the same 2000 iterations."
   ]
  },
  {
   "cell_type": "markdown",
   "metadata": {},
   "source": [
    "**The following creates two networks using a sigmoid activation function, a learning rate of 0.01, and reasonable starting weights.**"
   ]
  },
  {
   "cell_type": "code",
   "execution_count": 9,
   "metadata": {},
   "outputs": [
    {
     "name": "stderr",
     "output_type": "stream",
     "text": [
      "100%|██████████| 50000/50000 [01:21<00:00, 612.96it/s]\n"
     ]
    },
    {
     "name": "stdout",
     "output_type": "stream",
     "text": [
      "Without Batch Norm: After training, final accuracy on validation set = 0.7986000180244446\n"
     ]
    },
    {
     "name": "stderr",
     "output_type": "stream",
     "text": [
      "100%|██████████| 50000/50000 [03:36<00:00, 230.58it/s]\n"
     ]
    },
    {
     "name": "stdout",
     "output_type": "stream",
     "text": [
      "With Batch Norm: After training, final accuracy on validation set = 0.9757999777793884\n",
      "---------------------------------------------------------------------------\n",
      "Without Batch Norm: Accuracy on full test set = 0.7771000266075134\n",
      "---------------------------------------------------------------------------\n",
      "With Batch Norm: Accuracy on full test set = 0.9721999764442444\n"
     ]
    },
    {
     "data": {
      "image/png": "[encoded data removed]",
      "text/plain": [
       "<matplotlib.figure.Figure at 0x128dd96d8>"
      ]
     },
     "metadata": {},
     "output_type": "display_data"
    }
   ],
   "source": [
    "train_and_test(False, 0.01, tf.nn.sigmoid)"
   ]
  },
  {
   "cell_type": "markdown",
   "metadata": {},
   "source": [
    "With the number of layers we're using and this small learning rate, using a sigmoid activation function takes a long time to start learning. It eventually starts making progress, but it took over 45 thousand batches just to get over 80% accuracy. Using batch normalization gets to 90% in around one thousand batches. "
   ]
  },
  {
   "cell_type": "markdown",
   "metadata": {},
   "source": [
    "**The following creates two networks using a ReLU activation function, a learning rate of 1, and reasonable starting weights.**"
   ]
  },
  {
   "cell_type": "code",
   "execution_count": 10,
   "metadata": {},
   "outputs": [
    {
     "name": "stderr",
     "output_type": "stream",
     "text": [
      "100%|██████████| 50000/50000 [01:28<00:00, 564.37it/s]\n"
     ]
    },
    {
     "name": "stdout",
     "output_type": "stream",
     "text": [
      "Without Batch Norm: After training, final accuracy on validation set = 0.0957999974489212\n"
     ]
    },
    {
     "name": "stderr",
     "output_type": "stream",
     "text": [
      "100%|██████████| 50000/50000 [03:49<00:00, 217.83it/s]\n"
     ]
    },
    {
     "name": "stdout",
     "output_type": "stream",
     "text": [
      "With Batch Norm: After training, final accuracy on validation set = 0.9855999946594238\n",
      "---------------------------------------------------------------------------\n",
      "Without Batch Norm: Accuracy on full test set = 0.09799999743700027\n",
      "---------------------------------------------------------------------------\n",
      "With Batch Norm: Accuracy on full test set = 0.984000027179718\n"
     ]
    },
    {
     "data": {
      "image/png": "[encoded data removed]",
      "text/plain": [
       "<matplotlib.figure.Figure at 0x13309def0>"
      ]
     },
     "metadata": {},
     "output_type": "display_data"
    }
   ],
   "source": [
    "train_and_test(False, 1, tf.nn.relu)"
   ]
  },
  {
   "cell_type": "markdown",
   "metadata": {},
   "source": [
    "Now we're using ReLUs again, but with a larger learning rate. The plot shows how training started out pretty normally, with the network with batch normalization starting out faster than the other. But the higher learning rate bounces the accuracy around a bit more, and at some point the accuracy in the network without batch normalization just completely crashes. It's likely that too many ReLUs died off at this point because of the high learning rate.\n",
    "\n",
    "The next cell shows the same test again. The network with batch normalization performs the same way, and the other suffers from the same problem again, but it manages to train longer before it happens."
   ]
  },
  {
   "cell_type": "code",
   "execution_count": 11,
   "metadata": {},
   "outputs": [
    {
     "name": "stderr",
     "output_type": "stream",
     "text": [
      "100%|██████████| 50000/50000 [01:22<00:00, 609.35it/s]\n"
     ]
    },
    {
     "name": "stdout",
     "output_type": "stream",
     "text": [
      "Without Batch Norm: After training, final accuracy on validation set = 0.0957999974489212\n"
     ]
    },
    {
     "name": "stderr",
     "output_type": "stream",
     "text": [
      "100%|██████████| 50000/50000 [03:35<00:00, 232.03it/s]\n"
     ]
    },
    {
     "name": "stdout",
     "output_type": "stream",
     "text": [
      "With Batch Norm: After training, final accuracy on validation set = 0.9847999811172485\n",
      "---------------------------------------------------------------------------\n",
      "Without Batch Norm: Accuracy on full test set = 0.09799999743700027\n",
      "---------------------------------------------------------------------------\n",
      "With Batch Norm: Accuracy on full test set = 0.98089998960495\n"
     ]
    },
    {
     "data": {
      "image/png": "[encoded data removed]",
      "text/plain": [
       "<matplotlib.figure.Figure at 0x1284a6860>"
      ]
     },
     "metadata": {},
     "output_type": "display_data"
    }
   ],
   "source": [
    "train_and_test(False, 1, tf.nn.relu)"
   ]
  },
  {
   "cell_type": "markdown",
   "metadata": {},
   "source": [
    "In both of the previous examples, the network with batch normalization manages to gets over 98% accuracy, and get near that result almost immediately. The higher learning rate allows the network to train extremely fast."
   ]
  },
  {
   "cell_type": "markdown",
   "metadata": {},
   "source": [
    "**The following creates two networks using a sigmoid activation function, a learning rate of 1, and reasonable starting weights.**"
   ]
  },
  {
   "cell_type": "code",
   "execution_count": 12,
   "metadata": {},
   "outputs": [
    {
     "name": "stderr",
     "output_type": "stream",
     "text": [
      "100%|██████████| 50000/50000 [01:24<00:00, 594.95it/s]\n"
     ]
    },
    {
     "name": "stdout",
     "output_type": "stream",
     "text": [
      "Without Batch Norm: After training, final accuracy on validation set = 0.9796000123023987\n"
     ]
    },
    {
     "name": "stderr",
     "output_type": "stream",
     "text": [
      "100%|██████████| 50000/50000 [03:53<00:00, 214.38it/s]\n"
     ]
    },
    {
     "name": "stdout",
     "output_type": "stream",
     "text": [
      "With Batch Norm: After training, final accuracy on validation set = 0.9837999939918518\n",
      "---------------------------------------------------------------------------\n",
      "Without Batch Norm: Accuracy on full test set = 0.9767000079154968\n",
      "---------------------------------------------------------------------------\n",
      "With Batch Norm: Accuracy on full test set = 0.982699990272522\n"
     ]
    },
    {
     "data": {
      "image/png": "[encoded data removed]",
      "text/plain": [
       "<matplotlib.figure.Figure at 0x133875748>"
      ]
     },
     "metadata": {},
     "output_type": "display_data"
    }
   ],
   "source": [
    "train_and_test(False, 1, tf.nn.sigmoid)"
   ]
  },
  {
   "cell_type": "markdown",
   "metadata": {},
   "source": [
    "In this example, we switched to a sigmoid activation function. It appears to hande the higher learning rate well, with both networks achieving high accuracy.\n",
    "\n",
    "The cell below shows a similar pair of networks trained for only 2000 iterations."
   ]
  },
  {
   "cell_type": "code",
   "execution_count": 13,
   "metadata": {},
   "outputs": [
    {
     "name": "stderr",
     "output_type": "stream",
     "text": [
      "100%|██████████| 2000/2000 [00:04<00:00, 426.78it/s]\n"
     ]
    },
    {
     "name": "stdout",
     "output_type": "stream",
     "text": [
      "Without Batch Norm: After training, final accuracy on validation set = 0.9314000010490417\n"
     ]
    },
    {
     "name": "stderr",
     "output_type": "stream",
     "text": [
      "100%|██████████| 2000/2000 [00:10<00:00, 184.71it/s]\n"
     ]
    },
    {
     "name": "stdout",
     "output_type": "stream",
     "text": [
      "With Batch Norm: After training, final accuracy on validation set = 0.9480000138282776\n",
      "---------------------------------------------------------------------------\n",
      "Without Batch Norm: Accuracy on full test set = 0.9251999855041504\n",
      "---------------------------------------------------------------------------\n",
      "With Batch Norm: Accuracy on full test set = 0.9460999965667725\n"
     ]
    },
    {
     "data": {
      "image/png": "[encoded data removed]",
      "text/plain": [
       "<matplotlib.figure.Figure at 0x12851a160>"
      ]
     },
     "metadata": {},
     "output_type": "display_data"
    }
   ],
   "source": [
    "train_and_test(False, 1, tf.nn.sigmoid, 2000, 50)"
   ]
  },
  {
   "cell_type": "markdown",
   "metadata": {},
   "source": [
    "As you can see, even though these parameters work well for both networks, the one with batch normalization gets over 90% in 400 or so batches, whereas the other takes over 1700. When training larger networks, these sorts of differences become more pronounced."
   ]
  },
  {
   "cell_type": "markdown",
   "metadata": {},
   "source": [
    "**The following creates two networks using a ReLU activation function, a learning rate of 2, and reasonable starting weights.**"
   ]
  },
  {
   "cell_type": "code",
   "execution_count": 14,
   "metadata": {},
   "outputs": [
    {
     "name": "stderr",
     "output_type": "stream",
     "text": [
      "100%|██████████| 50000/50000 [01:23<00:00, 596.82it/s]\n"
     ]
    },
    {
     "name": "stdout",
     "output_type": "stream",
     "text": [
      "Without Batch Norm: After training, final accuracy on validation set = 0.11259999871253967\n"
     ]
    },
    {
     "name": "stderr",
     "output_type": "stream",
     "text": [
      "100%|██████████| 50000/50000 [03:22<00:00, 247.33it/s]\n"
     ]
    },
    {
     "name": "stdout",
     "output_type": "stream",
     "text": [
      "With Batch Norm: After training, final accuracy on validation set = 0.9855999946594238\n",
      "---------------------------------------------------------------------------\n",
      "Without Batch Norm: Accuracy on full test set = 0.11349999904632568\n",
      "---------------------------------------------------------------------------\n",
      "With Batch Norm: Accuracy on full test set = 0.9828000068664551\n"
     ]
    },
    {
     "data": {
      "image/png": "[encoded data removed]",
      "text/plain": [
       "<matplotlib.figure.Figure at 0x1330cda20>"
      ]
     },
     "metadata": {},
     "output_type": "display_data"
    }
   ],
   "source": [
    "train_and_test(False, 2, tf.nn.relu)"
   ]
  },
  {
   "cell_type": "markdown",
   "metadata": {},
   "source": [
    "With this very large learning rate, the network with batch normalization trains fine and almost immediately manages 98% accuracy. However, the network without normalization doesn't learn at all."
   ]
  },
  {
   "cell_type": "markdown",
   "metadata": {},
   "source": [
    "**The following creates two networks using a sigmoid activation function, a learning rate of 2, and reasonable starting weights.**"
   ]
  },
  {
   "cell_type": "code",
   "execution_count": 15,
   "metadata": {},
   "outputs": [
    {
     "name": "stderr",
     "output_type": "stream",
     "text": [
      "100%|██████████| 50000/50000 [01:25<00:00, 581.77it/s]\n"
     ]
    },
    {
     "name": "stdout",
     "output_type": "stream",
     "text": [
      "Without Batch Norm: After training, final accuracy on validation set = 0.9796000123023987\n"
     ]
    },
    {
     "name": "stderr",
     "output_type": "stream",
     "text": [
      "100%|██████████| 50000/50000 [03:46<00:00, 221.17it/s]\n"
     ]
    },
    {
     "name": "stdout",
     "output_type": "stream",
     "text": [
      "With Batch Norm: After training, final accuracy on validation set = 0.9810000061988831\n",
      "---------------------------------------------------------------------------\n",
      "Without Batch Norm: Accuracy on full test set = 0.9765999913215637\n",
      "---------------------------------------------------------------------------\n",
      "With Batch Norm: Accuracy on full test set = 0.980400025844574\n"
     ]
    },
    {
     "data": {
      "image/png": "[encoded data removed]",
      "text/plain": [
       "<matplotlib.figure.Figure at 0x13311dd30>"
      ]
     },
     "metadata": {},
     "output_type": "display_data"
    }
   ],
   "source": [
    "train_and_test(False, 2, tf.nn.sigmoid)"
   ]
  },
  {
   "cell_type": "markdown",
   "metadata": {},
   "source": [
    "Once again, using a sigmoid activation function with the larger learning rate works well both with and without batch normalization.\n",
    "\n",
    "However, look at the plot below where we train models with the same parameters but only 2000 iterations. As usual, batch normalization lets it train faster. "
   ]
  },
  {
   "cell_type": "code",
   "execution_count": 16,
   "metadata": {},
   "outputs": [
    {
     "name": "stderr",
     "output_type": "stream",
     "text": [
      "100%|██████████| 2000/2000 [00:04<00:00, 455.29it/s]\n"
     ]
    },
    {
     "name": "stdout",
     "output_type": "stream",
     "text": [
      "Without Batch Norm: After training, final accuracy on validation set = 0.9506000280380249\n"
     ]
    },
    {
     "name": "stderr",
     "output_type": "stream",
     "text": [
      "100%|██████████| 2000/2000 [00:10<00:00, 182.32it/s]\n"
     ]
    },
    {
     "name": "stdout",
     "output_type": "stream",
     "text": [
      "With Batch Norm: After training, final accuracy on validation set = 0.9545999765396118\n",
      "---------------------------------------------------------------------------\n",
      "Without Batch Norm: Accuracy on full test set = 0.9442999958992004\n",
      "---------------------------------------------------------------------------\n",
      "With Batch Norm: Accuracy on full test set = 0.945900022983551\n"
     ]
    },
    {
     "data": {
      "image/png": "[encoded data removed]",
      "text/plain": [
       "<matplotlib.figure.Figure at 0x126415208>"
      ]
     },
     "metadata": {},
     "output_type": "display_data"
    }
   ],
   "source": [
    "train_and_test(False, 2, tf.nn.sigmoid, 2000, 50)"
   ]
  },
  {
   "cell_type": "markdown",
   "metadata": {},
   "source": [
    "In the rest of the examples, we use really bad starting weights. That is, normally we would use very small values close to zero. However, in these examples we choose random values with a standard deviation of 5. If you were really training a neural network, you would **not** want to do this. But these examples demonstrate how batch normalization makes your network much more resilient.  "
   ]
  },
  {
   "cell_type": "markdown",
   "metadata": {},
   "source": [
    "**The following creates two networks using a ReLU activation function, a learning rate of 0.01, and bad starting weights.**"
   ]
  },
  {
   "cell_type": "code",
   "execution_count": 17,
   "metadata": {},
   "outputs": [
    {
     "name": "stderr",
     "output_type": "stream",
     "text": [
      "100%|██████████| 50000/50000 [01:27<00:00, 572.36it/s]\n"
     ]
    },
    {
     "name": "stdout",
     "output_type": "stream",
     "text": [
      "Without Batch Norm: After training, final accuracy on validation set = 0.0957999974489212\n"
     ]
    },
    {
     "name": "stderr",
     "output_type": "stream",
     "text": [
      " 95%|█████████▍| 47458/50000 [03:43<00:11, 212.78it/s]"
     ]
    },
    {
     "ename": "KeyboardInterrupt",
     "evalue": "",
     "output_type": "error",
     "traceback": [
      "\u001b[0;31m---------------------------------------------------------------------------\u001b[0m",
      "\u001b[0;31mKeyboardInterrupt\u001b[0m                         Traceback (most recent call last)",
      "\u001b[0;32m<ipython-input-17-3539e24a338f>\u001b[0m in \u001b[0;36m<module>\u001b[0;34m()\u001b[0m\n\u001b[0;32m----> 1\u001b[0;31m \u001b[0mtrain_and_test\u001b[0m\u001b[0;34m(\u001b[0m\u001b[0;32mTrue\u001b[0m\u001b[0;34m,\u001b[0m \u001b[0;36m0.01\u001b[0m\u001b[0;34m,\u001b[0m \u001b[0mtf\u001b[0m\u001b[0;34m.\u001b[0m\u001b[0mnn\u001b[0m\u001b[0;34m.\u001b[0m\u001b[0mrelu\u001b[0m\u001b[0;34m)\u001b[0m\u001b[0;34m\u001b[0m\u001b[0m\n\u001b[0m",
      "\u001b[0;32m<ipython-input-6-eeebd082aff9>\u001b[0m in \u001b[0;36mtrain_and_test\u001b[0;34m(use_bad_weights, learning_rate, activation_fn, training_batches, batches_per_sample)\u001b[0m\n\u001b[1;32m     93\u001b[0m \u001b[0;34m\u001b[0m\u001b[0m\n\u001b[1;32m     94\u001b[0m         \u001b[0mnn\u001b[0m\u001b[0;34m.\u001b[0m\u001b[0mtrain\u001b[0m\u001b[0;34m(\u001b[0m\u001b[0msess\u001b[0m\u001b[0;34m,\u001b[0m \u001b[0mlearning_rate\u001b[0m\u001b[0;34m,\u001b[0m \u001b[0mtraining_batches\u001b[0m\u001b[0;34m,\u001b[0m \u001b[0mbatches_per_sample\u001b[0m\u001b[0;34m)\u001b[0m\u001b[0;34m\u001b[0m\u001b[0m\n\u001b[0;32m---> 95\u001b[0;31m         \u001b[0mbn\u001b[0m\u001b[0;34m.\u001b[0m\u001b[0mtrain\u001b[0m\u001b[0;34m(\u001b[0m\u001b[0msess\u001b[0m\u001b[0;34m,\u001b[0m \u001b[0mlearning_rate\u001b[0m\u001b[0;34m,\u001b[0m \u001b[0mtraining_batches\u001b[0m\u001b[0;34m,\u001b[0m \u001b[0mbatches_per_sample\u001b[0m\u001b[0;34m)\u001b[0m\u001b[0;34m\u001b[0m\u001b[0m\n\u001b[0m\u001b[1;32m     96\u001b[0m         \u001b[0mnn\u001b[0m\u001b[0;34m.\u001b[0m\u001b[0mtest\u001b[0m\u001b[0;34m(\u001b[0m\u001b[0msess\u001b[0m\u001b[0;34m)\u001b[0m\u001b[0;34m\u001b[0m\u001b[0m\n\u001b[1;32m     97\u001b[0m         \u001b[0mbn\u001b[0m\u001b[0;34m.\u001b[0m\u001b[0mtest\u001b[0m\u001b[0;34m(\u001b[0m\u001b[0msess\u001b[0m\u001b[0;34m)\u001b[0m\u001b[0;34m\u001b[0m\u001b[0m\n",
      "\u001b[0;32m<ipython-input-5-12b19d7d0e29>\u001b[0m in \u001b[0;36mtrain\u001b[0;34m(self, session, learning_rate, training_batches, batches_per_sample, save_model_as)\u001b[0m\n\u001b[1;32m    156\u001b[0m             session.run(train_step, feed_dict={self.input_layer: batch_xs,\n\u001b[1;32m    157\u001b[0m                                                \u001b[0mlabels\u001b[0m\u001b[0;34m:\u001b[0m \u001b[0mbatch_ys\u001b[0m\u001b[0;34m,\u001b[0m\u001b[0;34m\u001b[0m\u001b[0m\n\u001b[0;32m--> 158\u001b[0;31m                                                self.is_training: True})\n\u001b[0m\u001b[1;32m    159\u001b[0m \u001b[0;34m\u001b[0m\u001b[0m\n\u001b[1;32m    160\u001b[0m             \u001b[0;31m# Periodically test accuracy against the 5k validation images and store it for plotting later.\u001b[0m\u001b[0;34m\u001b[0m\u001b[0;34m\u001b[0m\u001b[0m\n",
      "\u001b[0;32m~/anaconda/lib/python3.6/site-packages/tensorflow/python/client/session.py\u001b[0m in \u001b[0;36mrun\u001b[0;34m(self, fetches, feed_dict, options, run_metadata)\u001b[0m\n\u001b[1;32m    776\u001b[0m     \u001b[0;32mtry\u001b[0m\u001b[0;34m:\u001b[0m\u001b[0;34m\u001b[0m\u001b[0m\n\u001b[1;32m    777\u001b[0m       result = self._run(None, fetches, feed_dict, options_ptr,\n\u001b[0;32m--> 778\u001b[0;31m                          run_metadata_ptr)\n\u001b[0m\u001b[1;32m    779\u001b[0m       \u001b[0;32mif\u001b[0m \u001b[0mrun_metadata\u001b[0m\u001b[0;34m:\u001b[0m\u001b[0;34m\u001b[0m\u001b[0m\n\u001b[1;32m    780\u001b[0m         \u001b[0mproto_data\u001b[0m \u001b[0;34m=\u001b[0m \u001b[0mtf_session\u001b[0m\u001b[0;34m.\u001b[0m\u001b[0mTF_GetBuffer\u001b[0m\u001b[0;34m(\u001b[0m\u001b[0mrun_metadata_ptr\u001b[0m\u001b[0;34m)\u001b[0m\u001b[0;34m\u001b[0m\u001b[0m\n",
      "\u001b[0;32m~/anaconda/lib/python3.6/site-packages/tensorflow/python/client/session.py\u001b[0m in \u001b[0;36m_run\u001b[0;34m(self, handle, fetches, feed_dict, options, run_metadata)\u001b[0m\n\u001b[1;32m    980\u001b[0m     \u001b[0;32mif\u001b[0m \u001b[0mfinal_fetches\u001b[0m \u001b[0;32mor\u001b[0m \u001b[0mfinal_targets\u001b[0m\u001b[0;34m:\u001b[0m\u001b[0;34m\u001b[0m\u001b[0m\n\u001b[1;32m    981\u001b[0m       results = self._do_run(handle, final_targets, final_fetches,\n\u001b[0;32m--> 982\u001b[0;31m                              feed_dict_string, options, run_metadata)\n\u001b[0m\u001b[1;32m    983\u001b[0m     \u001b[0;32melse\u001b[0m\u001b[0;34m:\u001b[0m\u001b[0;34m\u001b[0m\u001b[0m\n\u001b[1;32m    984\u001b[0m       \u001b[0mresults\u001b[0m \u001b[0;34m=\u001b[0m \u001b[0;34m[\u001b[0m\u001b[0;34m]\u001b[0m\u001b[0;34m\u001b[0m\u001b[0m\n",
      "\u001b[0;32m~/anaconda/lib/python3.6/site-packages/tensorflow/python/client/session.py\u001b[0m in \u001b[0;36m_do_run\u001b[0;34m(self, handle, target_list, fetch_list, feed_dict, options, run_metadata)\u001b[0m\n\u001b[1;32m   1030\u001b[0m     \u001b[0;32mif\u001b[0m \u001b[0mhandle\u001b[0m \u001b[0;32mis\u001b[0m \u001b[0;32mNone\u001b[0m\u001b[0;34m:\u001b[0m\u001b[0;34m\u001b[0m\u001b[0m\n\u001b[1;32m   1031\u001b[0m       return self._do_call(_run_fn, self._session, feed_dict, fetch_list,\n\u001b[0;32m-> 1032\u001b[0;31m                            target_list, options, run_metadata)\n\u001b[0m\u001b[1;32m   1033\u001b[0m     \u001b[0;32melse\u001b[0m\u001b[0;34m:\u001b[0m\u001b[0;34m\u001b[0m\u001b[0m\n\u001b[1;32m   1034\u001b[0m       return self._do_call(_prun_fn, self._session, handle, feed_dict,\n",
      "\u001b[0;32m~/anaconda/lib/python3.6/site-packages/tensorflow/python/client/session.py\u001b[0m in \u001b[0;36m_do_call\u001b[0;34m(self, fn, *args)\u001b[0m\n\u001b[1;32m   1037\u001b[0m   \u001b[0;32mdef\u001b[0m \u001b[0m_do_call\u001b[0m\u001b[0;34m(\u001b[0m\u001b[0mself\u001b[0m\u001b[0;34m,\u001b[0m \u001b[0mfn\u001b[0m\u001b[0;34m,\u001b[0m \u001b[0;34m*\u001b[0m\u001b[0margs\u001b[0m\u001b[0;34m)\u001b[0m\u001b[0;34m:\u001b[0m\u001b[0;34m\u001b[0m\u001b[0m\n\u001b[1;32m   1038\u001b[0m     \u001b[0;32mtry\u001b[0m\u001b[0;34m:\u001b[0m\u001b[0;34m\u001b[0m\u001b[0m\n\u001b[0;32m-> 1039\u001b[0;31m       \u001b[0;32mreturn\u001b[0m \u001b[0mfn\u001b[0m\u001b[0;34m(\u001b[0m\u001b[0;34m*\u001b[0m\u001b[0margs\u001b[0m\u001b[0;34m)\u001b[0m\u001b[0;34m\u001b[0m\u001b[0m\n\u001b[0m\u001b[1;32m   1040\u001b[0m     \u001b[0;32mexcept\u001b[0m \u001b[0merrors\u001b[0m\u001b[0;34m.\u001b[0m\u001b[0mOpError\u001b[0m \u001b[0;32mas\u001b[0m \u001b[0me\u001b[0m\u001b[0;34m:\u001b[0m\u001b[0;34m\u001b[0m\u001b[0m\n\u001b[1;32m   1041\u001b[0m       \u001b[0mmessage\u001b[0m \u001b[0;34m=\u001b[0m \u001b[0mcompat\u001b[0m\u001b[0;34m.\u001b[0m\u001b[0mas_text\u001b[0m\u001b[0;34m(\u001b[0m\u001b[0me\u001b[0m\u001b[0;34m.\u001b[0m\u001b[0mmessage\u001b[0m\u001b[0;34m)\u001b[0m\u001b[0;34m\u001b[0m\u001b[0m\n",
      "\u001b[0;32m~/anaconda/lib/python3.6/site-packages/tensorflow/python/client/session.py\u001b[0m in \u001b[0;36m_run_fn\u001b[0;34m(session, feed_dict, fetch_list, target_list, options, run_metadata)\u001b[0m\n\u001b[1;32m   1019\u001b[0m         return tf_session.TF_Run(session, options,\n\u001b[1;32m   1020\u001b[0m                                  \u001b[0mfeed_dict\u001b[0m\u001b[0;34m,\u001b[0m \u001b[0mfetch_list\u001b[0m\u001b[0;34m,\u001b[0m \u001b[0mtarget_list\u001b[0m\u001b[0;34m,\u001b[0m\u001b[0;34m\u001b[0m\u001b[0m\n\u001b[0;32m-> 1021\u001b[0;31m                                  status, run_metadata)\n\u001b[0m\u001b[1;32m   1022\u001b[0m \u001b[0;34m\u001b[0m\u001b[0m\n\u001b[1;32m   1023\u001b[0m     \u001b[0;32mdef\u001b[0m \u001b[0m_prun_fn\u001b[0m\u001b[0;34m(\u001b[0m\u001b[0msession\u001b[0m\u001b[0;34m,\u001b[0m \u001b[0mhandle\u001b[0m\u001b[0;34m,\u001b[0m \u001b[0mfeed_dict\u001b[0m\u001b[0;34m,\u001b[0m \u001b[0mfetch_list\u001b[0m\u001b[0;34m)\u001b[0m\u001b[0;34m:\u001b[0m\u001b[0;34m\u001b[0m\u001b[0m\n",
      "\u001b[0;31mKeyboardInterrupt\u001b[0m: "
     ]
    }
   ],
   "source": [
    "train_and_test(True, 0.01, tf.nn.relu)"
   ]
  },
  {
   "cell_type": "markdown",
   "metadata": {},
   "source": [
    "As the plot shows, without batch normalization the network never learns anything at all. But with batch normalization, it actually learns pretty well and gets to almost 80% accuracy. The starting weights obviously hurt the network, but you can see how well batch normalization does in overcoming them. "
   ]
  },
  {
   "cell_type": "markdown",
   "metadata": {},
   "source": [
    "**The following creates two networks using a sigmoid activation function, a learning rate of 0.01, and bad starting weights.**"
   ]
  },
  {
   "cell_type": "code",
   "execution_count": null,
   "metadata": {},
   "outputs": [],
   "source": [
    "train_and_test(True, 0.01, tf.nn.sigmoid)"
   ]
  },
  {
   "cell_type": "markdown",
   "metadata": {},
   "source": [
    "Using a sigmoid activation function works better than the ReLU in the previous example, but without batch normalization it would take a tremendously long time to train the network, if it ever trained at all. "
   ]
  },
  {
   "cell_type": "markdown",
   "metadata": {},
   "source": [
    "**The following creates two networks using a ReLU activation function, a learning rate of 1, and bad starting weights.**<a id=\"successful_example_lr_1\"></a>"
   ]
  },
  {
   "cell_type": "code",
   "execution_count": null,
   "metadata": {},
   "outputs": [],
   "source": [
    "train_and_test(True, 1, tf.nn.relu)"
   ]
  },
  {
   "cell_type": "markdown",
   "metadata": {},
   "source": [
    "The higher learning rate used here allows the network with batch normalization to surpass 90% in about 30 thousand batches. The network without it never gets anywhere."
   ]
  },
  {
   "cell_type": "markdown",
   "metadata": {},
   "source": [
    "**The following creates two networks using a sigmoid activation function, a learning rate of 1, and bad starting weights.**"
   ]
  },
  {
   "cell_type": "code",
   "execution_count": null,
   "metadata": {},
   "outputs": [],
   "source": [
    "train_and_test(True, 1, tf.nn.sigmoid)"
   ]
  },
  {
   "cell_type": "markdown",
   "metadata": {},
   "source": [
    "Using sigmoid works better than ReLUs for this higher learning rate. However, you can see that without batch normalization, the network takes a long time tro train, bounces around a lot, and spends a long time stuck at 90%. The network with batch normalization trains much more quickly, seems to be more stable, and achieves a higher accuracy."
   ]
  },
  {
   "cell_type": "markdown",
   "metadata": {},
   "source": [
    "**The following creates two networks using a ReLU activation function, a learning rate of 2, and bad starting weights.**<a id=\"successful_example_lr_2\"></a>"
   ]
  },
  {
   "cell_type": "code",
   "execution_count": null,
   "metadata": {
    "scrolled": false
   },
   "outputs": [],
   "source": [
    "train_and_test(True, 2, tf.nn.relu)"
   ]
  },
  {
   "cell_type": "markdown",
   "metadata": {},
   "source": [
    "We've already seen that ReLUs do not do as well as sigmoids with higher learning rates, and here we are using an extremely high rate. As expected, without batch normalization the network doesn't learn at all. But with batch normalization, it eventually achieves 90% accuracy. Notice, though, how its accuracy bounces around wildly during training - that's because the learning rate is really much too high, so the fact that this worked at all is a bit of luck."
   ]
  },
  {
   "cell_type": "markdown",
   "metadata": {},
   "source": [
    "**The following creates two networks using a sigmoid activation function, a learning rate of 2, and bad starting weights.**"
   ]
  },
  {
   "cell_type": "code",
   "execution_count": null,
   "metadata": {},
   "outputs": [],
   "source": [
    "train_and_test(True, 2, tf.nn.sigmoid)"
   ]
  },
  {
   "cell_type": "markdown",
   "metadata": {},
   "source": [
    "In this case, the network with batch normalization trained faster and reached a higher accuracy. Meanwhile, the high learning rate makes the network without normalization bounce around erratically and have trouble getting past 90%."
   ]
  },
  {
   "cell_type": "markdown",
   "metadata": {},
   "source": [
    "### Full Disclosure: Batch Normalization Doesn't Fix Everything\n",
    "\n",
    "Batch normalization isn't magic and it doesn't work every time. Weights are still randomly initialized and batches are chosen at random during training, so you never know exactly how training will go. Even for these tests, where we use the same initial weights for both networks, we still get _different_ weights each time we run.\n",
    "\n",
    "This section includes two examples that show runs when batch normalization did not help at all.\n",
    "\n",
    "**The following creates two networks using a ReLU activation function, a learning rate of 1, and bad starting weights.**"
   ]
  },
  {
   "cell_type": "code",
   "execution_count": null,
   "metadata": {},
   "outputs": [],
   "source": [
    "train_and_test(True, 1, tf.nn.relu)"
   ]
  },
  {
   "cell_type": "markdown",
   "metadata": {},
   "source": [
    "When we used these same parameters [earlier](#successful_example_lr_1), we saw the network with batch normalization reach 92% validation accuracy. This time we used different starting weights, initialized using the same standard deviation as before, and the network doesn't learn at all. (Remember, an accuracy around 10% is what the network gets if it just guesses the same value all the time.)\n",
    "\n",
    "**The following creates two networks using a ReLU activation function, a learning rate of 2, and bad starting weights.**"
   ]
  },
  {
   "cell_type": "code",
   "execution_count": null,
   "metadata": {},
   "outputs": [],
   "source": [
    "train_and_test(True, 2, tf.nn.relu)"
   ]
  },
  {
   "cell_type": "markdown",
   "metadata": {},
   "source": [
    "When we trained with these parameters and batch normalization [earlier](#successful_example_lr_2), we reached 90% validation accuracy. However, this time the network _almost_ starts to make some progress in the beginning, but it quickly breaks down and stops learning. \n",
    "\n",
    "**Note:** Both of the above examples use *extremely* bad starting weights, along with learning rates that are too high. While we've shown batch normalization _can_ overcome bad values, we don't mean to encourage actually using them. The examples in this notebook are meant to show that batch normalization can help your networks train better. But these last two examples should remind you that you still want to try to use good network design choices and reasonable starting weights. It should also remind you that the results of each attempt to train a network are a bit random, even when using otherwise identical architectures."
   ]
  },
  {
   "cell_type": "markdown",
   "metadata": {},
   "source": [
    "# Batch Normalization: A Detailed Look<a id='implementation_2'></a>"
   ]
  },
  {
   "cell_type": "markdown",
   "metadata": {},
   "source": [
    "The layer created by `tf.layers.batch_normalization` handles all the details of implementing batch normalization. Many students will be fine just using that and won't care about what's happening at the lower levels. However, some students may want to explore the details, so here is a short explanation of what's really happening, starting with the equations you're likely to come across if you ever read about batch normalization. "
   ]
  },
  {
   "cell_type": "markdown",
   "metadata": {},
   "source": [
    "In order to normalize the values, we first need to find the average value for the batch. If you look at the code, you can see that this is not the average value of the batch _inputs_, but the average value coming _out_ of any particular layer before we pass it through its non-linear activation function and then feed it as an input to the _next_ layer.\n",
    "\n",
    "We represent the average as $\\mu_B$, which is simply the sum of all of the values $x_i$ divided by the number of values, $m$ \n",
    "\n",
    "$$\n",
    "\\mu_B \\leftarrow \\frac{1}{m}\\sum_{i=1}^m x_i\n",
    "$$\n",
    "\n",
    "We then need to calculate the variance, or mean squared deviation, represented as $\\sigma_{B}^{2}$. If you aren't familiar with statistics, that simply means for each value $x_i$, we subtract the average value (calculated earlier as $\\mu_B$), which gives us what's called the \"deviation\" for that value. We square the result to get the squared deviation. Sum up the results of doing that for each of the values, then divide by the number of values, again $m$, to get the average, or mean, squared deviation.\n",
    "\n",
    "$$\n",
    "\\sigma_{B}^{2} \\leftarrow \\frac{1}{m}\\sum_{i=1}^m (x_i - \\mu_B)^2\n",
    "$$\n",
    "\n",
    "Once we have the mean and variance, we can use them to normalize the values with the following equation. For each value, it subtracts the mean and divides by the (almost) standard deviation. (You've probably heard of standard deviation many times, but if you have not studied statistics you might not know that the standard deviation is actually the square root of the mean squared deviation.)\n",
    "\n",
    "$$\n",
    "\\hat{x_i} \\leftarrow \\frac{x_i - \\mu_B}{\\sqrt{\\sigma_{B}^{2} + \\epsilon}}\n",
    "$$\n",
    "\n",
    "Above, we said \"(almost) standard deviation\". That's because the real standard deviation for the batch is calculated by $\\sqrt{\\sigma_{B}^{2}}$, but the above formula adds the term epsilon, $\\epsilon$, before taking the square root. The epsilon can be any small, positive constant - in our code we use the value `0.001`. It is there partially to make sure we don't try to divide by zero, but it also acts to increase the variance slightly for each batch. \n",
    "\n",
    "Why increase the variance? Statistically, this makes sense because even though we are normalizing one batch at a time, we are also trying to estimate the population distribution – the total training set, which itself an estimate of the larger population of inputs your network wants to handle. The variance of a population is higher than the variance for any sample taken from that population, so increasing the variance a little bit for each batch helps take that into account. \n",
    "\n",
    "At this point, we have a normalized value, represented as $\\hat{x_i}$. But rather than use it directly, we multiply it by a gamma value, $\\gamma$, and then add a beta value, $\\beta$. Both $\\gamma$ and $\\beta$ are learnable parameters of the network and serve to scale and shift the normalized value, respectively. Because they are learnable just like weights, they give your network some extra knobs to tweak during training to help it learn the function it is trying to approximate.  \n",
    "\n",
    "$$\n",
    "y_i \\leftarrow \\gamma \\hat{x_i} + \\beta\n",
    "$$\n",
    "\n",
    "We now have the final batch-normalized output of our layer, which we would then pass to a non-linear activation function like sigmoid, tanh, ReLU, Leaky ReLU, etc. In the original batch normalization paper (linked in the beginning of this notebook), they mention that there might be cases when you'd want to perform the batch normalization _after_ the non-linearity instead of before, but it is difficult to find any uses like that in practice.\n",
    "\n",
    "In `NeuralNet`'s implementation of `fully_connected`, all of this math is hidden inside the following line, where `linear_output` serves as the $x_i$ from the equations:\n",
    "```python\n",
    "batch_normalized_output = tf.layers.batch_normalization(linear_output, training=self.is_training)\n",
    "```\n",
    "The next section shows you how to implement the math directly. "
   ]
  },
  {
   "cell_type": "markdown",
   "metadata": {},
   "source": [
    "### Batch normalization without the `tf.layers` package\n",
    "\n",
    "Our implementation of batch normalization in `NeuralNet` uses the high-level abstraction [tf.layers.batch_normalization](https://www.tensorflow.org/api_docs/python/tf/layers/batch_normalization), found in TensorFlow's [`tf.layers`](https://www.tensorflow.org/api_docs/python/tf/layers) package.\n",
    "\n",
    "However, if you would like to implement batch normalization at a lower level, the following code shows you how.\n",
    "It uses [tf.nn.batch_normalization](https://www.tensorflow.org/api_docs/python/tf/nn/batch_normalization) from TensorFlow's [neural net (nn)](https://www.tensorflow.org/api_docs/python/tf/nn) package.\n",
    "\n",
    "**1)** You can replace the `fully_connected` function in the `NeuralNet` class with the below code and everything in `NeuralNet` will still work like it did before."
   ]
  },
  {
   "cell_type": "code",
   "execution_count": null,
   "metadata": {},
   "outputs": [],
   "source": [
    "\"\"\"\n",
    "    Creates a standard, fully connected layer. Its number of inputs and outputs will be\n",
    "    defined by the shape of `initial_weights`, and its starting weight values will be\n",
    "    taken directly from that same parameter. If `self.use_batch_norm` is True, this\n",
    "    layer will include batch normalization, otherwise it will not. \n",
    "        \n",
    "    :param layer_in: Tensor\n",
    "        The Tensor that feeds into this layer. It's either the input to the network or the output\n",
    "        of a previous layer.\n",
    "    :param initial_weights: NumPy array or Tensor\n",
    "        Initial values for this layer's weights. The shape defines the number of nodes in the layer.\n",
    "        e.g. Passing in 3 matrix of shape (784, 256) would create a layer with 784 inputs and 256 \n",
    "        outputs. \n",
    "    :param activation_fn: Callable or None (default None)\n",
    "        The non-linearity used for the output of the layer. If None, this layer will not include \n",
    "        batch normalization, regardless of the value of `self.use_batch_norm`. \n",
    "        e.g. Pass tf.nn.relu to use ReLU activations on your hidden layers.\n",
    "\"\"\"\n",
    "def fully_connected(self, layer_in, initial_weights, activation_fn=None):\n",
    "    \n",
    "    if self.use_batch_norm and activation_fn:\n",
    "        \n",
    "        # Batch normalization uses weights as usual, but does NOT add a bias term. This is because \n",
    "        # its calculations include gamma and beta variables that make the bias term unnecessary.\n",
    "        weights       = tf.Variable(initial_weights)\n",
    "        linear_output = tf.matmul(layer_in, weights)\n",
    "\n",
    "        num_out_nodes = initial_weights.shape[-1]\n",
    "\n",
    "        # Batch normalization adds additional trainable variables: \n",
    "        # gamma (for scaling) and beta (for shifting).\n",
    "        gamma = tf.Variable(tf.ones([num_out_nodes]))\n",
    "        beta  = tf.Variable(tf.zeros([num_out_nodes]))\n",
    "\n",
    "        # These variables will store the mean and variance for this layer over the entire training set,\n",
    "        # which we assume represents the general population distribution.\n",
    "        # By setting `trainable=False`, we tell TensorFlow not to modify these variables during\n",
    "        # back propagation. Instead, we will assign values to these variables ourselves. \n",
    "        pop_mean = tf.Variable(tf.zeros([num_out_nodes]), trainable=False)\n",
    "        pop_variance = tf.Variable(tf.ones([num_out_nodes]), trainable=False)\n",
    "\n",
    "        # Batch normalization requires a small constant epsilon, used to ensure we don't divide by zero.\n",
    "        # This is the default value TensorFlow uses.\n",
    "        epsilon = 1e-3\n",
    "\n",
    "        \n",
    "        def batch_norm_training():\n",
    "            \n",
    "            # Calculate the mean and variance for the data coming out of this layer's linear-combination step.\n",
    "            # The [0] defines an array of axes to calculate over.\n",
    "            batch_mean, batch_variance = tf.nn.moments(linear_output, [0])\n",
    "\n",
    "            # Calculate a moving average of the training data's mean and variance while training.\n",
    "            # These will be used during inference.\n",
    "            # Decay should be some number less than 1. tf.layers.batch_normalization uses the parameter\n",
    "            # \"momentum\" to accomplish this and defaults it to 0.99\n",
    "            decay = 0.99\n",
    "            train_mean     = tf.assign(pop_mean, pop_mean * decay + batch_mean * (1 - decay))\n",
    "            train_variance = tf.assign(pop_variance, pop_variance * decay + batch_variance * (1 - decay))\n",
    "\n",
    "            # The 'tf.control_dependencies' context tells TensorFlow it must calculate 'train_mean' \n",
    "            # and 'train_variance' before it calculates the 'tf.nn.batch_normalization' layer.\n",
    "            # This is necessary because the those two operations are not actually in the graph\n",
    "            # connecting the linear_output and batch_normalization layers, \n",
    "            # so TensorFlow would otherwise just skip them.\n",
    "            with tf.control_dependencies([train_mean, train_variance]):\n",
    "                return tf.nn.batch_normalization(linear_output, batch_mean, batch_variance, beta, gamma, epsilon)\n",
    " \n",
    "        def batch_norm_inference():\n",
    "        \n",
    "            # During inference, use the our estimated population mean and variance to normalize the layer\n",
    "            return tf.nn.batch_normalization(linear_output, pop_mean, pop_variance, beta, gamma, epsilon)\n",
    "\n",
    "        # Use `tf.cond` as a sort of if-check. When self.is_training is True, TensorFlow will execute \n",
    "        # the operation returned from `batch_norm_training`; otherwise it will execute the graph\n",
    "        # operation returned from `batch_norm_inference`.\n",
    "        batch_normalized_output = tf.cond(self.is_training, batch_norm_training, batch_norm_inference)\n",
    "            \n",
    "        # Pass the batch-normalized layer output through the activation function.\n",
    "        # The literature states there may be cases where you want to perform the batch normalization *after*\n",
    "        # the activation function, but it is difficult to find any uses of that in practice.\n",
    "        return activation_fn(batch_normalized_output)\n",
    "    \n",
    "    else:\n",
    "        \n",
    "        # When not using batch normalization, create a standard layer that multiplies\n",
    "        # the inputs and weights, adds a bias, and optionally passes the result \n",
    "        # through an activation function.  \n",
    "        weights = tf.Variable(initial_weights)\n",
    "        biases  = tf.Variable(tf.zeros([initial_weights.shape[-1]]))\n",
    "        linear_output = tf.add(tf.matmul(layer_in, weights), biases)\n",
    "        return linear_output if not activation_fn else activation_fn(linear_output)"
   ]
  },
  {
   "cell_type": "markdown",
   "metadata": {},
   "source": [
    "This version of `fully_connected` is much longer than the original, but once again has extensive comments to help you understand it. Here are some important points:\n",
    "\n",
    "1. It explicitly creates variables to store gamma, beta, and the population mean and variance. These were all handled for us in the previous version of the function.\n",
    "2. It initializes gamma to one and beta to zero, so they start out having no effect in this calculation: $y_i \\leftarrow \\gamma \\hat{x_i} + \\beta$. However, during training the network learns the best values for these variables using back propagation, just like networks normally do with weights.\n",
    "3. Unlike gamma and beta, the variables for population mean and variance are marked as untrainable. That tells TensorFlow not to modify them during back propagation. Instead, the lines that call `tf.assign` are used to update these variables directly.\n",
    "4. TensorFlow won't automatically run the `tf.assign` operations during training because it only evaluates operations that are required based on the connections it finds in the graph. To get around that, we add this line: `with tf.control_dependencies([train_mean, train_variance]):` before we run the normalization operation. This tells TensorFlow it needs to run those operations before running anything inside the `with` block. \n",
    "5. The actual normalization math is still mostly hidden from us, this time using [`tf.nn.batch_normalization`](https://www.tensorflow.org/api_docs/python/tf/nn/batch_normalization).\n",
    "5. `tf.nn.batch_normalization` does not have a `training` parameter like `tf.layers.batch_normalization` did. However, we still need to handle training and inference differently, so we run different code in each case using the [`tf.cond`](https://www.tensorflow.org/api_docs/python/tf/cond) operation.\n",
    "6. We use the [`tf.nn.moments`](https://www.tensorflow.org/api_docs/python/tf/nn/moments) function to calculate the batch mean and variance."
   ]
  },
  {
   "cell_type": "markdown",
   "metadata": {},
   "source": [
    "**2)** The current version of the `train` function in `NeuralNet` will work fine with this new version of `fully_connected`. However, it uses these lines to ensure population statistics are updated when using batch normalization: \n",
    "```python\n",
    "if self.use_batch_norm:\n",
    "    with tf.control_dependencies(tf.get_collection(tf.GraphKeys.UPDATE_OPS)):\n",
    "        train_step = tf.train.GradientDescentOptimizer(learning_rate).minimize(cross_entropy)\n",
    "else:\n",
    "    train_step = tf.train.GradientDescentOptimizer(learning_rate).minimize(cross_entropy)\n",
    "```\n",
    "Our new version of `fully_connected` handles updating the population statistics directly. That means you can also simplify your code by replacing the above `if`/`else` condition with just this line:\n",
    "```python\n",
    "train_step = tf.train.GradientDescentOptimizer(learning_rate).minimize(cross_entropy)\n",
    "```"
   ]
  },
  {
   "cell_type": "markdown",
   "metadata": {},
   "source": [
    "**3)** And just in case you want to implement every detail from scratch, you can replace this line in `batch_norm_training`:\n",
    "\n",
    "```python\n",
    "return tf.nn.batch_normalization(linear_output, batch_mean, batch_variance, beta, gamma, epsilon)\n",
    "```\n",
    "with these lines:\n",
    "```python\n",
    "normalized_linear_output = (linear_output - batch_mean) / tf.sqrt(batch_variance + epsilon)\n",
    "return gamma * normalized_linear_output + beta\n",
    "```\n",
    "And replace this line in `batch_norm_inference`:\n",
    "```python\n",
    "return tf.nn.batch_normalization(linear_output, pop_mean, pop_variance, beta, gamma, epsilon)\n",
    "```\n",
    "with these lines:\n",
    "```python\n",
    "normalized_linear_output = (linear_output - pop_mean) / tf.sqrt(pop_variance + epsilon)\n",
    "return gamma * normalized_linear_output + beta\n",
    "```\n",
    "\n",
    "As you can see in each of the above substitutions, the two lines of replacement code simply implement the following two equations directly. The first line calculates the following equation, with `linear_output` representing $x_i$ and `normalized_linear_output` representing $\\hat{x_i}$: \n",
    "\n",
    "$$\n",
    "\\hat{x_i} \\leftarrow \\frac{x_i - \\mu_B}{\\sqrt{\\sigma_{B}^{2} + \\epsilon}}\n",
    "$$\n",
    "\n",
    "And the second line is a direct translation of the following equation:\n",
    "\n",
    "$$\n",
    "y_i \\leftarrow \\gamma \\hat{x_i} + \\beta\n",
    "$$\n",
    "\n",
    "We still use the `tf.nn.moments` operation to implement the other two equations from earlier – the ones that calculate the batch mean and variance used in the normalization step. If you really wanted to do everything from scratch, you could replace that line, too, but we'll leave that to you.  \n",
    "\n",
    "## Why the difference between training and inference?\n",
    "\n",
    "In the original function that uses `tf.layers.batch_normalization`, we tell the layer whether or not the network is training by passing a value for its `training` parameter, like so:\n",
    "```python\n",
    "batch_normalized_output = tf.layers.batch_normalization(linear_output, training=self.is_training)\n",
    "```\n",
    "And that forces us to provide a value for `self.is_training` in our `feed_dict`, like we do in this example from `NeuralNet`'s `train` function:\n",
    "```python\n",
    "session.run(train_step, feed_dict={self.input_layer: batch_xs, \n",
    "                                   labels: batch_ys, \n",
    "                                   self.is_training: True})\n",
    "```\n",
    "If you looked at the [low level implementation](#low_level_code), you probably noticed that, just like with `tf.layers.batch_normalization`, we need to do slightly different things during training and inference. But why is that?\n",
    "\n",
    "First, let's look at what happens when we don't. The following function is similar to `train_and_test` from earlier, but this time we are only testing one network and instead of plotting its accuracy, we perform 200 predictions on test inputs, 1 input at at time. We can use the `test_training_accuracy` parameter to test the network in training or inference modes (the equivalent of passing `True` or `False` to the `feed_dict` for `is_training`)."
   ]
  },
  {
   "cell_type": "code",
   "execution_count": null,
   "metadata": {},
   "outputs": [],
   "source": [
    "\"\"\"\n",
    "    :param test_training_accuracy: bool\n",
    "        If True,  perform inference with batch normalization using batch mean and variance;\n",
    "        if False, perform inference with batch normalization using estimated population mean and variance.\n",
    "\"\"\"\n",
    "def batch_norm_test(test_training_accuracy):\n",
    "\n",
    "    weights = [np.random.normal(size=(784,100), scale=0.05).astype(np.float32),\n",
    "               np.random.normal(size=(100,100), scale=0.05).astype(np.float32),\n",
    "               np.random.normal(size=(100,100), scale=0.05).astype(np.float32),\n",
    "               np.random.normal(size=(100, 10), scale=0.05).astype(np.float32)\n",
    "              ]\n",
    "\n",
    "    tf.reset_default_graph()\n",
    "\n",
    "    # Train the model\n",
    "    bn = NeuralNet(weights, tf.nn.relu, True)\n",
    " \n",
    "    # First train the network\n",
    "    with tf.Session() as sess:\n",
    "        \n",
    "        tf.global_variables_initializer().run()\n",
    "        bn.train(sess, 0.01, 2000, 2000)\n",
    "        bn.test(sess, test_training_accuracy=test_training_accuracy, include_individual_predictions=True)"
   ]
  },
  {
   "cell_type": "markdown",
   "metadata": {},
   "source": [
    "In the following cell, we pass `True` for `test_training_accuracy`, which performs the same batch normalization that we normally perform **during training**."
   ]
  },
  {
   "cell_type": "code",
   "execution_count": null,
   "metadata": {},
   "outputs": [],
   "source": [
    "batch_norm_test(True)"
   ]
  },
  {
   "cell_type": "markdown",
   "metadata": {},
   "source": [
    "As you can see, the network guessed the same value every time! But why? Because during training, a network with batch normalization adjusts the values at each layer based on the mean and variance **of that batch**. The \"batches\" we are using for these predictions have a single input each time, so their values _are_ the means, and their variances will always be 0. That means the network will normalize the values at any layer to zero. (Review the equations from before to see why a value that is equal to the mean would always normalize to zero.) So we end up with the same result for every input we give the network, because its the value the network produces when it applies its learned weights to zeros at every layer. \n",
    "\n",
    "**Note:** If you re-run that cell, you might get a different value from what we showed. That's because the specific weights the network learns will be different every time. But whatever value it is, it should be the same for all 200 predictions.\n",
    "\n",
    "To overcome this problem, the network does not just normalize the batch at each layer. It also maintains an estimate of the mean and variance for the entire population. So when we perform inference, instead of letting it \"normalize\" all the values using their own means and variance, it uses the estimates of the population mean and variance that it calculated while training. \n",
    "\n",
    "So in the following example, we pass `False` for `test_training_accuracy`, which tells the network that we it want to perform inference with the population statistics it calculates during training."
   ]
  },
  {
   "cell_type": "code",
   "execution_count": null,
   "metadata": {},
   "outputs": [],
   "source": [
    "batch_norm_test(False)"
   ]
  },
  {
   "cell_type": "markdown",
   "metadata": {},
   "source": [
    "As you can see, now that we're using the estimated population mean and variance, we get a 97% accuracy. That means it guessed correctly on 194 of the 200 samples – not too bad for something that trained in under 4 seconds. :)\n",
    "\n",
    "# Considerations for other network types\n",
    "\n",
    "This notebook demonstrates batch normalization in a standard neural network with fully connected layers. You can also use batch normalization in other types of networks, but there are some special considerations.\n",
    "\n",
    "### ConvNets\n",
    "\n",
    "Convolution layers consist of multiple feature maps. (Remember, the depth of a convolutional layer refers to its number of feature maps.) And the weights for each feature map are shared across all the inputs that feed into the layer. Because of these differences, batch normalizaing convolutional layers requires batch/population mean and variance per feature map rather than per node in the layer.\n",
    "\n",
    "When using `tf.layers.batch_normalization`, be sure to pay attention to the order of your convolutionlal dimensions.\n",
    "Specifically, you may want to set a different value for the `axis` parameter if your layers have their channels first instead of last. \n",
    "\n",
    "In our low-level implementations, we used the following line to calculate the batch mean and variance:\n",
    "```python\n",
    "batch_mean, batch_variance = tf.nn.moments(linear_output, [0])\n",
    "```\n",
    "If we were dealing with a convolutional layer, we would calculate the mean and variance with a line like this instead:\n",
    "```python\n",
    "batch_mean, batch_variance = tf.nn.moments(conv_layer, [0,1,2], keep_dims=False)\n",
    "```\n",
    "The second parameter, `[0,1,2]`, tells TensorFlow to calculate the batch mean and variance over each feature map. (The three axes are the batch, height, and width.) And setting `keep_dims` to `False` tells `tf.nn.moments` not to return values with the same size as the inputs. Specifically, it ensures we get one mean/variance pair per feature map.\n",
    "\n",
    "### RNNs\n",
    "\n",
    "Batch normalization can work with recurrent neural networks, too, as shown in the 2016 paper [Recurrent Batch Normalization](https://arxiv.org/abs/1603.09025). It's a bit more work to implement, but basically involves calculating the means and variances per time step instead of per layer. You can find an example where someone extended `tf.nn.rnn_cell.RNNCell` to include batch normalization in [this GitHub repo](https://gist.github.com/spitis/27ab7d2a30bbaf5ef431b4a02194ac60)."
   ]
  }
 ],
 "metadata": {
  "kernelspec": {
   "display_name": "Python 3",
   "language": "python",
   "name": "python3"
  },
  "language_info": {
   "codemirror_mode": {
    "name": "ipython",
    "version": 3
   },
   "file_extension": ".py",
   "mimetype": "text/x-python",
   "name": "python",
   "nbconvert_exporter": "python",
   "pygments_lexer": "ipython3",
   "version": "3.6.4"
  }
 },
 "nbformat": 4,
 "nbformat_minor": 2
}
