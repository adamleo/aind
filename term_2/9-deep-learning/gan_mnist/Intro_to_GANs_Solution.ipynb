{
 "cells": [
  {
   "cell_type": "markdown",
   "metadata": {
    "deletable": true,
    "editable": true
   },
   "source": [
    "# Generative Adversarial Network\n",
    "\n",
    "In this notebook, we'll be building a generative adversarial network (GAN) trained on the MNIST dataset. From this, we'll be able to generate new handwritten digits!\n",
    "\n",
    "GANs were [first reported on](https://arxiv.org/abs/1406.2661) in 2014 from Ian Goodfellow and others in Yoshua Bengio's lab. Since then, GANs have exploded in popularity. Here are a few examples to check out:\n",
    "\n",
    "* [Pix2Pix](https://affinelayer.com/pixsrv/) \n",
    "* [CycleGAN](https://github.com/junyanz/CycleGAN)\n",
    "* [A whole list](https://github.com/wiseodd/generative-models)\n",
    "\n",
    "The idea behind GANs is that you have two networks, a generator $G$ and a discriminator $D$, competing against each other. The generator makes fake data to pass to the discriminator. The discriminator also sees real data and predicts if the data it's received is real or fake. The generator is trained to fool the discriminator, it wants to output data that looks _as close as possible_ to real data. And the discriminator is trained to figure out which data is real and which is fake. What ends up happening is that the generator learns to make data that is indistiguishable from real data to the discriminator.\n",
    "\n",
    "![GAN diagram](assets/gan_diagram.png)\n",
    "\n",
    "The general structure of a GAN is shown in the diagram above, using MNIST images as data. The latent sample is a random vector the generator uses to contruct it's fake images. As the generator learns through training, it figures out how to map these random vectors to recognizable images that can foold the discriminator.\n",
    "\n",
    "The output of the discriminator is a sigmoid function, where 0 indicates a fake image and 1 indicates an real image. If you're interested only in generating new images, you can throw out the discriminator after training. Now, let's see how we build this thing in TensorFlow."
   ]
  },
  {
   "cell_type": "code",
   "execution_count": 1,
   "metadata": {
    "collapsed": true,
    "deletable": true,
    "editable": true
   },
   "outputs": [],
   "source": [
    "%matplotlib inline\n",
    "\n",
    "import numpy as np\n",
    "import pickle as pkl\n",
    "import tensorflow as tf\n",
    "import matplotlib.pyplot as plt"
   ]
  },
  {
   "cell_type": "code",
   "execution_count": 2,
   "metadata": {
    "collapsed": false,
    "deletable": true,
    "editable": true
   },
   "outputs": [
    {
     "name": "stdout",
     "output_type": "stream",
     "text": [
      "Extracting MNIST_data/train-images-idx3-ubyte.gz\n",
      "Extracting MNIST_data/train-labels-idx1-ubyte.gz\n",
      "Extracting MNIST_data/t10k-images-idx3-ubyte.gz\n",
      "Extracting MNIST_data/t10k-labels-idx1-ubyte.gz\n"
     ]
    }
   ],
   "source": [
    "from tensorflow.examples.tutorials.mnist import input_data\n",
    "mnist = input_data.read_data_sets('MNIST_data')"
   ]
  },
  {
   "cell_type": "markdown",
   "metadata": {
    "deletable": true,
    "editable": true
   },
   "source": [
    "## Model Inputs\n",
    "\n",
    "First we need to create the inputs for our graph. We need two inputs, one for the discriminator and one for the generator. Here we'll call the discriminator input `inputs_real` and the generator input `inputs_z`. We'll assign them the appropriate sizes for each of the networks."
   ]
  },
  {
   "cell_type": "code",
   "execution_count": 3,
   "metadata": {
    "collapsed": true,
    "deletable": true,
    "editable": true
   },
   "outputs": [],
   "source": [
    "def model_inputs(real_dim, z_dim):\n",
    "    inputs_real = tf.placeholder(tf.float32, (None, real_dim), name='input_real') \n",
    "    inputs_z = tf.placeholder(tf.float32, (None, z_dim), name='input_z')\n",
    "    \n",
    "    return inputs_real, inputs_z"
   ]
  },
  {
   "cell_type": "markdown",
   "metadata": {
    "deletable": true,
    "editable": true
   },
   "source": [
    "## Generator network\n",
    "\n",
    "![GAN Network](assets/gan_network.png)\n",
    "\n",
    "Here we'll build the generator network. To make this network a universal function approximator, we'll need at least one hidden layer. We should use a leaky ReLU to allow gradients to flow backwards through the layer unimpeded. A leaky ReLU is like a normal ReLU, except that there is a small non-zero output for negative input values.\n",
    "\n",
    "#### Variable Scope\n",
    "Here we need to use `tf.variable_scope` for two reasons. Firstly, we're going to make sure all the variable names start with `generator`. Similarly, we'll prepend `discriminator` to the discriminator variables. This will help out later when we're training the separate networks.\n",
    "\n",
    "We could just use `tf.name_scope` to set the names, but we also want to reuse these networks with different inputs. For the generator, we're going to train it, but also _sample from it_ as we're training and after training. The discriminator will need to share variables between the fake and real input images. So, we can use the `reuse` keyword for `tf.variable_scope` to tell TensorFlow to reuse the variables instead of creating new ones if we build the graph again.\n",
    "\n",
    "To use `tf.variable_scope`, you use a `with` statement:\n",
    "```python\n",
    "with tf.variable_scope('scope_name', reuse=False):\n",
    "    # code here\n",
    "```\n",
    "\n",
    "Here's more from [the TensorFlow documentation](https://www.tensorflow.org/programmers_guide/variable_scope#the_problem) to get another look at using `tf.variable_scope`.\n",
    "\n",
    "#### Leaky ReLU\n",
    "TensorFlow doesn't provide an operation for leaky ReLUs, so we'll need to make one . For this you can use take the outputs from a linear fully connected layer and pass them to `tf.maximum`. Typically, a parameter `alpha` sets the magnitude of the output for negative values. So, the output for negative input (`x`) values is `alpha*x`, and the output for positive `x` is `x`:\n",
    "$$\n",
    "f(x) = max(\\alpha * x, x)\n",
    "$$\n",
    "\n",
    "#### Tanh Output\n",
    "The generator has been found to perform the best with $tanh$ for the generator output. This means that we'll have to rescale the MNIST images to be between -1 and 1, instead of 0 and 1."
   ]
  },
  {
   "cell_type": "code",
   "execution_count": 4,
   "metadata": {
    "collapsed": true,
    "deletable": true,
    "editable": true
   },
   "outputs": [],
   "source": [
    "def generator(z, out_dim, n_units=128, reuse=False, alpha=0.01):\n",
    "    with tf.variable_scope('generator', reuse=reuse):\n",
    "        # Hidden layer\n",
    "        h1 = tf.layers.dense(z, n_units, activation=None)\n",
    "        # Leaky ReLU\n",
    "        h1 = tf.maximum(alpha * h1, h1)\n",
    "        \n",
    "        # Logits and tanh output\n",
    "        logits = tf.layers.dense(h1, out_dim, activation=None)\n",
    "        out = tf.tanh(logits)\n",
    "        \n",
    "        return out"
   ]
  },
  {
   "cell_type": "markdown",
   "metadata": {
    "deletable": true,
    "editable": true
   },
   "source": [
    "## Discriminator\n",
    "\n",
    "The discriminator network is almost exactly the same as the generator network, except that we're using a sigmoid output layer."
   ]
  },
  {
   "cell_type": "code",
   "execution_count": 5,
   "metadata": {
    "collapsed": true,
    "deletable": true,
    "editable": true
   },
   "outputs": [],
   "source": [
    "def discriminator(x, n_units=128, reuse=False, alpha=0.01):\n",
    "    with tf.variable_scope('discriminator', reuse=reuse):\n",
    "        # Hidden layer\n",
    "        h1 = tf.layers.dense(x, n_units, activation=None)\n",
    "        # Leaky ReLU\n",
    "        h1 = tf.maximum(alpha * h1, h1)\n",
    "        \n",
    "        logits = tf.layers.dense(h1, 1, activation=None)\n",
    "        out = tf.sigmoid(logits)\n",
    "        \n",
    "        return out, logits"
   ]
  },
  {
   "cell_type": "markdown",
   "metadata": {
    "deletable": true,
    "editable": true
   },
   "source": [
    "## Hyperparameters"
   ]
  },
  {
   "cell_type": "code",
   "execution_count": 6,
   "metadata": {
    "collapsed": true,
    "deletable": true,
    "editable": true
   },
   "outputs": [],
   "source": [
    "# Size of input image to discriminator\n",
    "input_size = 784\n",
    "# Size of latent vector to generator\n",
    "z_size = 100\n",
    "# Sizes of hidden layers in generator and discriminator\n",
    "g_hidden_size = 128\n",
    "d_hidden_size = 128\n",
    "# Leak factor for leaky ReLU\n",
    "alpha = 0.01\n",
    "# Smoothing \n",
    "smooth = 0.1"
   ]
  },
  {
   "cell_type": "markdown",
   "metadata": {
    "deletable": true,
    "editable": true
   },
   "source": [
    "## Build network\n",
    "\n",
    "Now we're building the network from the functions defined above.\n",
    "\n",
    "First is to get our inputs, `input_real, input_z` from `model_inputs` using the sizes of the input and z.\n",
    "\n",
    "Then, we'll create the generator, `generator(input_z, input_size)`. This builds the generator with the appropriate input and output sizes.\n",
    "\n",
    "Then the discriminators. We'll build two of them, one for real data and one for fake data. Since we want the weights to be the same for both real and fake data, we need to reuse the variables. For the fake data, we're getting it from the generator as `g_model`. So the real data discriminator is `discriminator(input_real)` while the fake discriminator is `discriminator(g_model, reuse=True)`."
   ]
  },
  {
   "cell_type": "code",
   "execution_count": 7,
   "metadata": {
    "collapsed": true,
    "deletable": true,
    "editable": true
   },
   "outputs": [],
   "source": [
    "tf.reset_default_graph()\n",
    "# Create our input placeholders\n",
    "input_real, input_z = model_inputs(input_size, z_size)\n",
    "\n",
    "# Build the model\n",
    "g_model = generator(input_z, input_size, n_units=g_hidden_size, alpha=alpha)\n",
    "# g_model is the generator output\n",
    "\n",
    "d_model_real, d_logits_real = discriminator(input_real, n_units=d_hidden_size, alpha=alpha)\n",
    "d_model_fake, d_logits_fake = discriminator(g_model, reuse=True, n_units=d_hidden_size, alpha=alpha)"
   ]
  },
  {
   "cell_type": "markdown",
   "metadata": {
    "deletable": true,
    "editable": true
   },
   "source": [
    "## Discriminator and Generator Losses\n",
    "\n",
    "Now we need to calculate the losses, which is a little tricky. For the discriminator, the total loss is the sum of the losses for real and fake images, `d_loss = d_loss_real + d_loss_fake`. The losses will by sigmoid cross-entropys, which we can get with `tf.nn.sigmoid_cross_entropy_with_logits`. We'll also wrap that in `tf.reduce_mean` to get the mean for all the images in the batch. So the losses will look something like \n",
    "\n",
    "```python\n",
    "tf.reduce_mean(tf.nn.sigmoid_cross_entropy_with_logits(logits=logits, labels=labels))\n",
    "```\n",
    "\n",
    "For the real image logits, we'll use `d_logits_real` which we got from the discriminator in the cell above. For the labels, we want them to be all ones, since these are all real images. To help the discriminator generalize better, the labels are reduced a bit from 1.0 to 0.9, for example,  using the parameter `smooth`. This is known as label smoothing, typically used with classifiers to improve performance. In TensorFlow, it looks something like `labels = tf.ones_like(tensor) * (1 - smooth)`\n",
    "\n",
    "The discriminator loss for the fake data is similar. The logits are `d_logits_fake`, which we got from passing the generator output to the discriminator. These fake logits are used with labels of all zeros. Remember that we want the discriminator to output 1 for real images and 0 for fake images, so we need to set up the losses to reflect that.\n",
    "\n",
    "Finally, the generator losses are using `d_logits_fake`, the fake image logits. But, now the labels are all ones. The generator is trying to fool the discriminator, so it wants to discriminator to output ones for fake images."
   ]
  },
  {
   "cell_type": "code",
   "execution_count": 8,
   "metadata": {
    "collapsed": true,
    "deletable": true,
    "editable": true
   },
   "outputs": [],
   "source": [
    "# Calculate losses\n",
    "d_loss_real = tf.reduce_mean(\n",
    "                  tf.nn.sigmoid_cross_entropy_with_logits(logits=d_logits_real, \n",
    "                                                          labels=tf.ones_like(d_logits_real) * (1 - smooth)))\n",
    "d_loss_fake = tf.reduce_mean(\n",
    "                  tf.nn.sigmoid_cross_entropy_with_logits(logits=d_logits_fake, \n",
    "                                                          labels=tf.zeros_like(d_logits_real)))\n",
    "d_loss = d_loss_real + d_loss_fake\n",
    "\n",
    "g_loss = tf.reduce_mean(\n",
    "             tf.nn.sigmoid_cross_entropy_with_logits(logits=d_logits_fake,\n",
    "                                                     labels=tf.ones_like(d_logits_fake)))"
   ]
  },
  {
   "cell_type": "markdown",
   "metadata": {
    "deletable": true,
    "editable": true
   },
   "source": [
    "## Optimizers\n",
    "\n",
    "We want to update the generator and discriminator variables separately. So we need to get the variables for each part build optimizers for the two parts. To get all the trainable variables, we use `tf.trainable_variables()`. This creates a list of all the variables we've defined in our graph.\n",
    "\n",
    "For the generator optimizer, we only want to generator variables. Our past selves were nice and used a variable scope to start all of our generator variable names with `generator`. So, we just need to iterate through the list from `tf.trainable_variables()` and keep variables to start with `generator`. Each variable object has an attribute `name` which holds the name of the variable as a string (`var.name == 'weights_0'` for instance). \n",
    "\n",
    "We can do something similar with the discriminator. All the variables in the discriminator start with `discriminator`.\n",
    "\n",
    "Then, in the optimizer we pass the variable lists to `var_list` in the `minimize` method. This tells the optimizer to only update the listed variables. Something like `tf.train.AdamOptimizer().minimize(loss, var_list=var_list)` will only train the variables in `var_list`."
   ]
  },
  {
   "cell_type": "code",
   "execution_count": 9,
   "metadata": {
    "collapsed": true,
    "deletable": true,
    "editable": true,
    "scrolled": true
   },
   "outputs": [],
   "source": [
    "# Optimizers\n",
    "learning_rate = 0.002\n",
    "\n",
    "# Get the trainable_variables, split into G and D parts\n",
    "t_vars = tf.trainable_variables()\n",
    "g_vars = [var for var in t_vars if var.name.startswith('generator')]\n",
    "d_vars = [var for var in t_vars if var.name.startswith('discriminator')]\n",
    "\n",
    "d_train_opt = tf.train.AdamOptimizer(learning_rate).minimize(d_loss, var_list=d_vars)\n",
    "g_train_opt = tf.train.AdamOptimizer(learning_rate).minimize(g_loss, var_list=g_vars)"
   ]
  },
  {
   "cell_type": "markdown",
   "metadata": {
    "deletable": true,
    "editable": true
   },
   "source": [
    "## Training"
   ]
  },
  {
   "cell_type": "code",
   "execution_count": 10,
   "metadata": {
    "collapsed": false,
    "deletable": true,
    "editable": true,
    "scrolled": true
   },
   "outputs": [
    {
     "name": "stdout",
     "output_type": "stream",
     "text": [
      "Epoch 1/500... Discriminator Loss: 0.4644... Generator Loss: 3.5201\n",
      "Epoch 2/500... Discriminator Loss: 0.3631... Generator Loss: 3.7817\n",
      "Epoch 3/500... Discriminator Loss: 0.4081... Generator Loss: 3.4450\n",
      "Epoch 4/500... Discriminator Loss: 0.5888... Generator Loss: 2.3623\n",
      "Epoch 5/500... Discriminator Loss: 0.6062... Generator Loss: 5.0098\n",
      "Epoch 6/500... Discriminator Loss: 1.0713... Generator Loss: 2.5253\n",
      "Epoch 7/500... Discriminator Loss: 0.8064... Generator Loss: 4.3702\n",
      "Epoch 8/500... Discriminator Loss: 1.0841... Generator Loss: 1.6231\n",
      "Epoch 9/500... Discriminator Loss: 1.0302... Generator Loss: 1.7328\n",
      "Epoch 10/500... Discriminator Loss: 1.2929... Generator Loss: 2.6379\n",
      "Epoch 11/500... Discriminator Loss: 1.4847... Generator Loss: 2.4977\n",
      "Epoch 12/500... Discriminator Loss: 5.0345... Generator Loss: 1.5466\n",
      "Epoch 13/500... Discriminator Loss: 0.6877... Generator Loss: 2.5160\n",
      "Epoch 14/500... Discriminator Loss: 1.0848... Generator Loss: 1.5789\n",
      "Epoch 15/500... Discriminator Loss: 1.1995... Generator Loss: 1.8722\n",
      "Epoch 16/500... Discriminator Loss: 2.1913... Generator Loss: 0.8713\n",
      "Epoch 17/500... Discriminator Loss: 0.8922... Generator Loss: 2.4858\n",
      "Epoch 18/500... Discriminator Loss: 1.2725... Generator Loss: 1.4901\n",
      "Epoch 19/500... Discriminator Loss: 1.3026... Generator Loss: 1.0997\n",
      "Epoch 20/500... Discriminator Loss: 1.4040... Generator Loss: 1.0248\n",
      "Epoch 21/500... Discriminator Loss: 1.1006... Generator Loss: 1.9681\n",
      "Epoch 22/500... Discriminator Loss: 1.1169... Generator Loss: 1.6367\n",
      "Epoch 23/500... Discriminator Loss: 1.1969... Generator Loss: 1.5548\n",
      "Epoch 24/500... Discriminator Loss: 0.9755... Generator Loss: 1.6297\n",
      "Epoch 25/500... Discriminator Loss: 1.1023... Generator Loss: 2.7409\n",
      "Epoch 26/500... Discriminator Loss: 1.2232... Generator Loss: 1.7427\n",
      "Epoch 27/500... Discriminator Loss: 0.9748... Generator Loss: 2.4613\n",
      "Epoch 28/500... Discriminator Loss: 0.7142... Generator Loss: 2.1858\n",
      "Epoch 29/500... Discriminator Loss: 1.6581... Generator Loss: 0.8554\n",
      "Epoch 30/500... Discriminator Loss: 0.9137... Generator Loss: 2.2456\n",
      "Epoch 31/500... Discriminator Loss: 0.8481... Generator Loss: 1.9699\n",
      "Epoch 32/500... Discriminator Loss: 0.7032... Generator Loss: 2.0534\n",
      "Epoch 33/500... Discriminator Loss: 0.8848... Generator Loss: 1.9102\n",
      "Epoch 34/500... Discriminator Loss: 1.0442... Generator Loss: 2.3436\n",
      "Epoch 35/500... Discriminator Loss: 1.2256... Generator Loss: 1.9353\n",
      "Epoch 36/500... Discriminator Loss: 1.2222... Generator Loss: 1.4239\n",
      "Epoch 37/500... Discriminator Loss: 1.1152... Generator Loss: 1.6768\n",
      "Epoch 38/500... Discriminator Loss: 0.8861... Generator Loss: 1.9597\n",
      "Epoch 39/500... Discriminator Loss: 1.0010... Generator Loss: 2.2292\n",
      "Epoch 40/500... Discriminator Loss: 1.0007... Generator Loss: 2.2572\n",
      "Epoch 41/500... Discriminator Loss: 0.9889... Generator Loss: 1.8033\n",
      "Epoch 42/500... Discriminator Loss: 0.9741... Generator Loss: 2.2394\n",
      "Epoch 43/500... Discriminator Loss: 1.0864... Generator Loss: 2.4442\n",
      "Epoch 44/500... Discriminator Loss: 0.9439... Generator Loss: 2.1857\n",
      "Epoch 45/500... Discriminator Loss: 1.0566... Generator Loss: 1.4716\n",
      "Epoch 46/500... Discriminator Loss: 0.9094... Generator Loss: 2.1445\n",
      "Epoch 47/500... Discriminator Loss: 1.1003... Generator Loss: 1.5916\n",
      "Epoch 48/500... Discriminator Loss: 0.9030... Generator Loss: 1.5972\n",
      "Epoch 49/500... Discriminator Loss: 0.8180... Generator Loss: 2.3599\n",
      "Epoch 50/500... Discriminator Loss: 1.0891... Generator Loss: 1.4322\n",
      "Epoch 51/500... Discriminator Loss: 0.9199... Generator Loss: 2.2679\n",
      "Epoch 52/500... Discriminator Loss: 1.0399... Generator Loss: 1.8118\n",
      "Epoch 53/500... Discriminator Loss: 1.0223... Generator Loss: 1.7116\n",
      "Epoch 54/500... Discriminator Loss: 0.9781... Generator Loss: 2.0163\n",
      "Epoch 55/500... Discriminator Loss: 0.9225... Generator Loss: 2.0421\n",
      "Epoch 56/500... Discriminator Loss: 0.9972... Generator Loss: 1.7812\n",
      "Epoch 57/500... Discriminator Loss: 1.0682... Generator Loss: 1.7375\n",
      "Epoch 58/500... Discriminator Loss: 0.9429... Generator Loss: 1.8752\n",
      "Epoch 59/500... Discriminator Loss: 0.9282... Generator Loss: 1.8726\n",
      "Epoch 60/500... Discriminator Loss: 0.8197... Generator Loss: 2.4119\n",
      "Epoch 61/500... Discriminator Loss: 1.0291... Generator Loss: 1.7242\n",
      "Epoch 62/500... Discriminator Loss: 0.9721... Generator Loss: 2.0766\n",
      "Epoch 63/500... Discriminator Loss: 0.9570... Generator Loss: 1.5088\n",
      "Epoch 64/500... Discriminator Loss: 1.0481... Generator Loss: 1.8554\n",
      "Epoch 65/500... Discriminator Loss: 0.9517... Generator Loss: 1.6746\n",
      "Epoch 66/500... Discriminator Loss: 0.9123... Generator Loss: 2.5041\n",
      "Epoch 67/500... Discriminator Loss: 0.9791... Generator Loss: 1.7176\n",
      "Epoch 68/500... Discriminator Loss: 1.0597... Generator Loss: 1.6907\n",
      "Epoch 69/500... Discriminator Loss: 0.9923... Generator Loss: 2.0903\n",
      "Epoch 70/500... Discriminator Loss: 0.9248... Generator Loss: 2.3750\n",
      "Epoch 71/500... Discriminator Loss: 1.0274... Generator Loss: 1.7688\n",
      "Epoch 72/500... Discriminator Loss: 0.9637... Generator Loss: 2.0002\n",
      "Epoch 73/500... Discriminator Loss: 0.9638... Generator Loss: 1.7903\n",
      "Epoch 74/500... Discriminator Loss: 0.8950... Generator Loss: 2.1329\n",
      "Epoch 75/500... Discriminator Loss: 1.0009... Generator Loss: 1.4809\n",
      "Epoch 76/500... Discriminator Loss: 0.9793... Generator Loss: 1.8063\n",
      "Epoch 77/500... Discriminator Loss: 0.9869... Generator Loss: 1.8129\n",
      "Epoch 78/500... Discriminator Loss: 0.9637... Generator Loss: 1.6708\n",
      "Epoch 79/500... Discriminator Loss: 1.0424... Generator Loss: 1.9570\n",
      "Epoch 80/500... Discriminator Loss: 1.0226... Generator Loss: 2.3116\n",
      "Epoch 81/500... Discriminator Loss: 0.9854... Generator Loss: 1.5782\n",
      "Epoch 82/500... Discriminator Loss: 0.9052... Generator Loss: 2.0528\n",
      "Epoch 83/500... Discriminator Loss: 0.9235... Generator Loss: 1.9518\n",
      "Epoch 84/500... Discriminator Loss: 0.8987... Generator Loss: 1.9794\n",
      "Epoch 85/500... Discriminator Loss: 0.9692... Generator Loss: 1.6539\n",
      "Epoch 86/500... Discriminator Loss: 0.9713... Generator Loss: 1.8368\n",
      "Epoch 87/500... Discriminator Loss: 1.2560... Generator Loss: 1.1998\n",
      "Epoch 88/500... Discriminator Loss: 1.0728... Generator Loss: 1.8833\n",
      "Epoch 89/500... Discriminator Loss: 0.9773... Generator Loss: 1.8928\n",
      "Epoch 90/500... Discriminator Loss: 0.8113... Generator Loss: 2.0369\n",
      "Epoch 91/500... Discriminator Loss: 0.9524... Generator Loss: 1.7623\n",
      "Epoch 92/500... Discriminator Loss: 1.1107... Generator Loss: 1.5307\n",
      "Epoch 93/500... Discriminator Loss: 1.0541... Generator Loss: 1.8660\n",
      "Epoch 94/500... Discriminator Loss: 0.9560... Generator Loss: 1.8331\n",
      "Epoch 95/500... Discriminator Loss: 0.8684... Generator Loss: 2.0231\n",
      "Epoch 96/500... Discriminator Loss: 0.9459... Generator Loss: 2.1393\n",
      "Epoch 97/500... Discriminator Loss: 0.9728... Generator Loss: 1.8228\n",
      "Epoch 98/500... Discriminator Loss: 1.0203... Generator Loss: 1.5906\n",
      "Epoch 99/500... Discriminator Loss: 0.8999... Generator Loss: 2.0091\n",
      "Epoch 100/500... Discriminator Loss: 0.9562... Generator Loss: 1.7069\n",
      "Epoch 101/500... Discriminator Loss: 1.0188... Generator Loss: 1.8024\n",
      "Epoch 102/500... Discriminator Loss: 1.0601... Generator Loss: 1.6556\n",
      "Epoch 103/500... Discriminator Loss: 0.8892... Generator Loss: 2.0787\n",
      "Epoch 104/500... Discriminator Loss: 1.0065... Generator Loss: 1.8793\n",
      "Epoch 105/500... Discriminator Loss: 0.8552... Generator Loss: 1.8591\n",
      "Epoch 106/500... Discriminator Loss: 0.8879... Generator Loss: 2.4139\n",
      "Epoch 107/500... Discriminator Loss: 0.9502... Generator Loss: 1.8038\n",
      "Epoch 108/500... Discriminator Loss: 0.9277... Generator Loss: 2.2211\n",
      "Epoch 109/500... Discriminator Loss: 1.2005... Generator Loss: 2.0968\n",
      "Epoch 110/500... Discriminator Loss: 0.8383... Generator Loss: 2.1198\n",
      "Epoch 111/500... Discriminator Loss: 0.9390... Generator Loss: 1.8664\n",
      "Epoch 112/500... Discriminator Loss: 0.9665... Generator Loss: 2.1516\n",
      "Epoch 113/500... Discriminator Loss: 0.9134... Generator Loss: 1.9052\n",
      "Epoch 114/500... Discriminator Loss: 0.8816... Generator Loss: 1.6759\n",
      "Epoch 115/500... Discriminator Loss: 1.0275... Generator Loss: 1.5412\n",
      "Epoch 116/500... Discriminator Loss: 0.8609... Generator Loss: 2.1185\n",
      "Epoch 117/500... Discriminator Loss: 0.8961... Generator Loss: 1.6151\n",
      "Epoch 118/500... Discriminator Loss: 1.0258... Generator Loss: 1.7252\n",
      "Epoch 119/500... Discriminator Loss: 1.1076... Generator Loss: 1.7586\n",
      "Epoch 120/500... Discriminator Loss: 0.8776... Generator Loss: 1.9826\n",
      "Epoch 121/500... Discriminator Loss: 0.8381... Generator Loss: 2.3063\n",
      "Epoch 122/500... Discriminator Loss: 1.0304... Generator Loss: 1.8339\n",
      "Epoch 123/500... Discriminator Loss: 0.8897... Generator Loss: 1.8340\n",
      "Epoch 124/500... Discriminator Loss: 0.8343... Generator Loss: 2.3848\n",
      "Epoch 125/500... Discriminator Loss: 1.0019... Generator Loss: 2.0611\n",
      "Epoch 126/500... Discriminator Loss: 1.0621... Generator Loss: 1.3086\n",
      "Epoch 127/500... Discriminator Loss: 0.9167... Generator Loss: 2.5013\n",
      "Epoch 128/500... Discriminator Loss: 0.9163... Generator Loss: 1.6717\n",
      "Epoch 129/500... Discriminator Loss: 0.8594... Generator Loss: 2.0895\n",
      "Epoch 130/500... Discriminator Loss: 0.9727... Generator Loss: 1.6938\n",
      "Epoch 131/500... Discriminator Loss: 0.8925... Generator Loss: 1.7392\n",
      "Epoch 132/500... Discriminator Loss: 0.9722... Generator Loss: 1.9728\n",
      "Epoch 133/500... Discriminator Loss: 0.9372... Generator Loss: 1.8940\n",
      "Epoch 134/500... Discriminator Loss: 0.9265... Generator Loss: 1.6321\n",
      "Epoch 135/500... Discriminator Loss: 1.0203... Generator Loss: 1.9731\n",
      "Epoch 136/500... Discriminator Loss: 1.1078... Generator Loss: 1.9458\n",
      "Epoch 137/500... Discriminator Loss: 1.1054... Generator Loss: 1.3885\n",
      "Epoch 138/500... Discriminator Loss: 0.9184... Generator Loss: 1.9030\n",
      "Epoch 139/500... Discriminator Loss: 1.0088... Generator Loss: 1.8691\n",
      "Epoch 140/500... Discriminator Loss: 0.9537... Generator Loss: 1.6387\n",
      "Epoch 141/500... Discriminator Loss: 1.0317... Generator Loss: 1.9288\n",
      "Epoch 142/500... Discriminator Loss: 0.9542... Generator Loss: 1.7369\n",
      "Epoch 143/500... Discriminator Loss: 0.9083... Generator Loss: 1.9498\n",
      "Epoch 144/500... Discriminator Loss: 0.8870... Generator Loss: 2.0702\n",
      "Epoch 145/500... Discriminator Loss: 0.8188... Generator Loss: 1.7758\n",
      "Epoch 146/500... Discriminator Loss: 1.0911... Generator Loss: 1.5600\n",
      "Epoch 147/500... Discriminator Loss: 0.9422... Generator Loss: 1.5610\n",
      "Epoch 148/500... Discriminator Loss: 0.9689... Generator Loss: 1.9990\n",
      "Epoch 149/500... Discriminator Loss: 1.1152... Generator Loss: 1.2862\n",
      "Epoch 150/500... Discriminator Loss: 0.9153... Generator Loss: 1.8211\n",
      "Epoch 151/500... Discriminator Loss: 0.9691... Generator Loss: 1.5077\n",
      "Epoch 152/500... Discriminator Loss: 1.0729... Generator Loss: 1.4531\n",
      "Epoch 153/500... Discriminator Loss: 0.9370... Generator Loss: 1.8703\n",
      "Epoch 154/500... Discriminator Loss: 0.9333... Generator Loss: 1.9110\n",
      "Epoch 155/500... Discriminator Loss: 0.9555... Generator Loss: 1.6776\n",
      "Epoch 156/500... Discriminator Loss: 1.0102... Generator Loss: 1.9922\n",
      "Epoch 157/500... Discriminator Loss: 0.9820... Generator Loss: 1.9611\n",
      "Epoch 158/500... Discriminator Loss: 0.8520... Generator Loss: 1.8729\n",
      "Epoch 159/500... Discriminator Loss: 1.1404... Generator Loss: 2.0474\n",
      "Epoch 160/500... Discriminator Loss: 1.0229... Generator Loss: 1.6953\n",
      "Epoch 161/500... Discriminator Loss: 0.9956... Generator Loss: 1.7550\n",
      "Epoch 162/500... Discriminator Loss: 1.0006... Generator Loss: 1.9205\n",
      "Epoch 163/500... Discriminator Loss: 1.1173... Generator Loss: 1.7819\n",
      "Epoch 164/500... Discriminator Loss: 1.0795... Generator Loss: 1.3803\n",
      "Epoch 165/500... Discriminator Loss: 0.9523... Generator Loss: 1.5837\n",
      "Epoch 166/500... Discriminator Loss: 1.0471... Generator Loss: 1.5860\n",
      "Epoch 167/500... Discriminator Loss: 1.0555... Generator Loss: 1.7497\n",
      "Epoch 168/500... Discriminator Loss: 1.0120... Generator Loss: 1.7625\n",
      "Epoch 169/500... Discriminator Loss: 1.1015... Generator Loss: 1.8715\n",
      "Epoch 170/500... Discriminator Loss: 0.8532... Generator Loss: 2.0032\n",
      "Epoch 171/500... Discriminator Loss: 0.8941... Generator Loss: 1.8742\n",
      "Epoch 172/500... Discriminator Loss: 0.9028... Generator Loss: 2.2284\n",
      "Epoch 173/500... Discriminator Loss: 1.0432... Generator Loss: 1.6264\n",
      "Epoch 174/500... Discriminator Loss: 1.0926... Generator Loss: 2.1972\n",
      "Epoch 175/500... Discriminator Loss: 1.0305... Generator Loss: 2.0142\n",
      "Epoch 176/500... Discriminator Loss: 0.9312... Generator Loss: 2.2227\n",
      "Epoch 177/500... Discriminator Loss: 1.0055... Generator Loss: 1.8646\n",
      "Epoch 178/500... Discriminator Loss: 0.9412... Generator Loss: 1.8473\n",
      "Epoch 179/500... Discriminator Loss: 1.2674... Generator Loss: 1.6008\n",
      "Epoch 180/500... Discriminator Loss: 0.9984... Generator Loss: 1.8392\n",
      "Epoch 181/500... Discriminator Loss: 0.9940... Generator Loss: 1.8026\n",
      "Epoch 182/500... Discriminator Loss: 0.9016... Generator Loss: 2.4073\n",
      "Epoch 183/500... Discriminator Loss: 0.8915... Generator Loss: 1.8396\n",
      "Epoch 184/500... Discriminator Loss: 0.9473... Generator Loss: 1.7364\n",
      "Epoch 185/500... Discriminator Loss: 1.0013... Generator Loss: 1.4968\n",
      "Epoch 186/500... Discriminator Loss: 1.0532... Generator Loss: 1.6352\n",
      "Epoch 187/500... Discriminator Loss: 0.7831... Generator Loss: 1.9235\n",
      "Epoch 188/500... Discriminator Loss: 1.0091... Generator Loss: 1.9774\n",
      "Epoch 189/500... Discriminator Loss: 1.1095... Generator Loss: 1.6279\n",
      "Epoch 190/500... Discriminator Loss: 1.1956... Generator Loss: 1.4659\n",
      "Epoch 191/500... Discriminator Loss: 0.9887... Generator Loss: 2.1352\n",
      "Epoch 192/500... Discriminator Loss: 1.0465... Generator Loss: 1.9481\n",
      "Epoch 193/500... Discriminator Loss: 0.9558... Generator Loss: 1.7623\n",
      "Epoch 194/500... Discriminator Loss: 1.0425... Generator Loss: 2.1020\n",
      "Epoch 195/500... Discriminator Loss: 0.8955... Generator Loss: 2.0160\n",
      "Epoch 196/500... Discriminator Loss: 0.9587... Generator Loss: 2.2937\n",
      "Epoch 197/500... Discriminator Loss: 0.8806... Generator Loss: 1.9930\n",
      "Epoch 198/500... Discriminator Loss: 0.8615... Generator Loss: 2.1034\n",
      "Epoch 199/500... Discriminator Loss: 1.0727... Generator Loss: 1.6879\n",
      "Epoch 200/500... Discriminator Loss: 1.1172... Generator Loss: 2.0004\n",
      "Epoch 201/500... Discriminator Loss: 0.8309... Generator Loss: 2.6106\n",
      "Epoch 202/500... Discriminator Loss: 0.9686... Generator Loss: 1.9369\n",
      "Epoch 203/500... Discriminator Loss: 0.9053... Generator Loss: 1.7139\n",
      "Epoch 204/500... Discriminator Loss: 1.2219... Generator Loss: 1.6226\n",
      "Epoch 205/500... Discriminator Loss: 1.0339... Generator Loss: 1.6201\n",
      "Epoch 206/500... Discriminator Loss: 1.0158... Generator Loss: 1.8923\n",
      "Epoch 207/500... Discriminator Loss: 0.9872... Generator Loss: 1.8089\n",
      "Epoch 208/500... Discriminator Loss: 1.0031... Generator Loss: 1.9370\n",
      "Epoch 209/500... Discriminator Loss: 1.1699... Generator Loss: 1.7078\n",
      "Epoch 210/500... Discriminator Loss: 0.8324... Generator Loss: 2.0209\n",
      "Epoch 211/500... Discriminator Loss: 1.0867... Generator Loss: 1.7242\n",
      "Epoch 212/500... Discriminator Loss: 0.8950... Generator Loss: 1.8407\n",
      "Epoch 213/500... Discriminator Loss: 1.2375... Generator Loss: 1.6890\n",
      "Epoch 214/500... Discriminator Loss: 0.9809... Generator Loss: 1.9577\n",
      "Epoch 215/500... Discriminator Loss: 1.0923... Generator Loss: 2.1500\n",
      "Epoch 216/500... Discriminator Loss: 1.0274... Generator Loss: 1.6366\n",
      "Epoch 217/500... Discriminator Loss: 0.9478... Generator Loss: 1.7566\n",
      "Epoch 218/500... Discriminator Loss: 0.9630... Generator Loss: 2.0099\n",
      "Epoch 219/500... Discriminator Loss: 1.0684... Generator Loss: 2.0965\n",
      "Epoch 220/500... Discriminator Loss: 1.0042... Generator Loss: 1.7927\n",
      "Epoch 221/500... Discriminator Loss: 0.9152... Generator Loss: 2.1263\n",
      "Epoch 222/500... Discriminator Loss: 1.0562... Generator Loss: 1.9483\n",
      "Epoch 223/500... Discriminator Loss: 0.9856... Generator Loss: 1.8197\n",
      "Epoch 224/500... Discriminator Loss: 0.9263... Generator Loss: 2.0761\n",
      "Epoch 225/500... Discriminator Loss: 1.0684... Generator Loss: 1.9499\n",
      "Epoch 226/500... Discriminator Loss: 1.0106... Generator Loss: 1.9621\n",
      "Epoch 227/500... Discriminator Loss: 1.0414... Generator Loss: 1.7024\n",
      "Epoch 228/500... Discriminator Loss: 0.8650... Generator Loss: 2.1707\n",
      "Epoch 229/500... Discriminator Loss: 1.0226... Generator Loss: 2.0586\n",
      "Epoch 230/500... Discriminator Loss: 1.0230... Generator Loss: 1.7726\n",
      "Epoch 231/500... Discriminator Loss: 1.1197... Generator Loss: 1.7624\n",
      "Epoch 232/500... Discriminator Loss: 0.9347... Generator Loss: 1.9829\n",
      "Epoch 233/500... Discriminator Loss: 0.9934... Generator Loss: 1.9349\n",
      "Epoch 234/500... Discriminator Loss: 0.9007... Generator Loss: 2.0423\n",
      "Epoch 235/500... Discriminator Loss: 1.0516... Generator Loss: 2.0429\n",
      "Epoch 236/500... Discriminator Loss: 1.0068... Generator Loss: 1.8992\n",
      "Epoch 237/500... Discriminator Loss: 1.0283... Generator Loss: 2.3210\n",
      "Epoch 238/500... Discriminator Loss: 0.9440... Generator Loss: 2.0405\n",
      "Epoch 239/500... Discriminator Loss: 1.0532... Generator Loss: 1.7682\n",
      "Epoch 240/500... Discriminator Loss: 1.1936... Generator Loss: 1.5559\n",
      "Epoch 241/500... Discriminator Loss: 0.7957... Generator Loss: 2.3457\n",
      "Epoch 242/500... Discriminator Loss: 0.9196... Generator Loss: 1.8474\n",
      "Epoch 243/500... Discriminator Loss: 1.0296... Generator Loss: 1.8362\n",
      "Epoch 244/500... Discriminator Loss: 0.9851... Generator Loss: 1.9953\n",
      "Epoch 245/500... Discriminator Loss: 1.0563... Generator Loss: 1.7867\n",
      "Epoch 246/500... Discriminator Loss: 0.9309... Generator Loss: 2.4681\n",
      "Epoch 247/500... Discriminator Loss: 1.1584... Generator Loss: 1.3777\n",
      "Epoch 248/500... Discriminator Loss: 0.9909... Generator Loss: 2.0853\n",
      "Epoch 249/500... Discriminator Loss: 0.9084... Generator Loss: 1.8500\n",
      "Epoch 250/500... Discriminator Loss: 0.8757... Generator Loss: 2.0118\n",
      "Epoch 251/500... Discriminator Loss: 1.0052... Generator Loss: 2.3070\n",
      "Epoch 252/500... Discriminator Loss: 0.7833... Generator Loss: 2.5719\n",
      "Epoch 253/500... Discriminator Loss: 1.1139... Generator Loss: 1.5313\n",
      "Epoch 254/500... Discriminator Loss: 0.9692... Generator Loss: 1.9139\n",
      "Epoch 255/500... Discriminator Loss: 1.0473... Generator Loss: 1.8949\n",
      "Epoch 256/500... Discriminator Loss: 1.0011... Generator Loss: 2.1156\n",
      "Epoch 257/500... Discriminator Loss: 1.1405... Generator Loss: 2.2817\n",
      "Epoch 258/500... Discriminator Loss: 1.0387... Generator Loss: 1.4279\n",
      "Epoch 259/500... Discriminator Loss: 0.9608... Generator Loss: 1.7202\n",
      "Epoch 260/500... Discriminator Loss: 0.9457... Generator Loss: 2.4370\n",
      "Epoch 261/500... Discriminator Loss: 0.8894... Generator Loss: 2.2923\n",
      "Epoch 262/500... Discriminator Loss: 1.1243... Generator Loss: 1.6961\n",
      "Epoch 263/500... Discriminator Loss: 0.8990... Generator Loss: 2.1937\n",
      "Epoch 264/500... Discriminator Loss: 1.0728... Generator Loss: 1.9001\n",
      "Epoch 265/500... Discriminator Loss: 0.9626... Generator Loss: 2.0308\n",
      "Epoch 266/500... Discriminator Loss: 0.9696... Generator Loss: 2.0526\n",
      "Epoch 267/500... Discriminator Loss: 0.9363... Generator Loss: 2.1179\n",
      "Epoch 268/500... Discriminator Loss: 0.9113... Generator Loss: 1.9602\n",
      "Epoch 269/500... Discriminator Loss: 1.0766... Generator Loss: 2.2977\n",
      "Epoch 270/500... Discriminator Loss: 0.8687... Generator Loss: 2.1344\n",
      "Epoch 271/500... Discriminator Loss: 0.8984... Generator Loss: 1.9766\n",
      "Epoch 272/500... Discriminator Loss: 0.9268... Generator Loss: 2.0572\n",
      "Epoch 273/500... Discriminator Loss: 0.8895... Generator Loss: 2.5346\n",
      "Epoch 274/500... Discriminator Loss: 0.9609... Generator Loss: 1.5069\n",
      "Epoch 275/500... Discriminator Loss: 1.0540... Generator Loss: 1.9063\n",
      "Epoch 276/500... Discriminator Loss: 1.0153... Generator Loss: 1.9622\n",
      "Epoch 277/500... Discriminator Loss: 0.9352... Generator Loss: 2.1277\n",
      "Epoch 278/500... Discriminator Loss: 1.0853... Generator Loss: 1.4783\n",
      "Epoch 279/500... Discriminator Loss: 1.0950... Generator Loss: 1.6123\n",
      "Epoch 280/500... Discriminator Loss: 1.1489... Generator Loss: 1.6590\n",
      "Epoch 281/500... Discriminator Loss: 0.9905... Generator Loss: 1.6042\n",
      "Epoch 282/500... Discriminator Loss: 1.0750... Generator Loss: 1.6309\n",
      "Epoch 283/500... Discriminator Loss: 1.0794... Generator Loss: 1.9562\n",
      "Epoch 284/500... Discriminator Loss: 1.2589... Generator Loss: 1.8974\n",
      "Epoch 285/500... Discriminator Loss: 1.0457... Generator Loss: 2.1817\n",
      "Epoch 286/500... Discriminator Loss: 0.8455... Generator Loss: 2.1009\n",
      "Epoch 287/500... Discriminator Loss: 1.2701... Generator Loss: 1.7177\n",
      "Epoch 288/500... Discriminator Loss: 0.9011... Generator Loss: 1.8992\n",
      "Epoch 289/500... Discriminator Loss: 0.9294... Generator Loss: 1.8950\n",
      "Epoch 290/500... Discriminator Loss: 1.0007... Generator Loss: 1.7665\n",
      "Epoch 291/500... Discriminator Loss: 0.9568... Generator Loss: 2.2066\n",
      "Epoch 292/500... Discriminator Loss: 0.9835... Generator Loss: 1.8611\n",
      "Epoch 293/500... Discriminator Loss: 0.9990... Generator Loss: 1.6639\n",
      "Epoch 294/500... Discriminator Loss: 0.9660... Generator Loss: 1.5896\n",
      "Epoch 295/500... Discriminator Loss: 1.0416... Generator Loss: 1.6180\n",
      "Epoch 296/500... Discriminator Loss: 0.9919... Generator Loss: 2.0911\n",
      "Epoch 297/500... Discriminator Loss: 0.9518... Generator Loss: 1.6136\n",
      "Epoch 298/500... Discriminator Loss: 1.0675... Generator Loss: 1.6320\n",
      "Epoch 299/500... Discriminator Loss: 0.8745... Generator Loss: 2.1032\n",
      "Epoch 300/500... Discriminator Loss: 0.7964... Generator Loss: 2.7075\n",
      "Epoch 301/500... Discriminator Loss: 1.0392... Generator Loss: 1.9592\n",
      "Epoch 302/500... Discriminator Loss: 0.8491... Generator Loss: 2.0546\n",
      "Epoch 303/500... Discriminator Loss: 0.9960... Generator Loss: 2.1335\n",
      "Epoch 304/500... Discriminator Loss: 1.0184... Generator Loss: 1.5870\n",
      "Epoch 305/500... Discriminator Loss: 0.8227... Generator Loss: 2.0292\n",
      "Epoch 306/500... Discriminator Loss: 0.9938... Generator Loss: 2.1990\n",
      "Epoch 307/500... Discriminator Loss: 0.9713... Generator Loss: 1.6645\n",
      "Epoch 308/500... Discriminator Loss: 1.1844... Generator Loss: 1.6549\n",
      "Epoch 309/500... Discriminator Loss: 0.9731... Generator Loss: 1.8221\n",
      "Epoch 310/500... Discriminator Loss: 0.8674... Generator Loss: 1.9488\n",
      "Epoch 311/500... Discriminator Loss: 0.9627... Generator Loss: 1.7722\n",
      "Epoch 312/500... Discriminator Loss: 0.8430... Generator Loss: 1.8951\n",
      "Epoch 313/500... Discriminator Loss: 0.8948... Generator Loss: 2.2768\n",
      "Epoch 314/500... Discriminator Loss: 0.9646... Generator Loss: 1.8055\n",
      "Epoch 315/500... Discriminator Loss: 0.7457... Generator Loss: 2.0939\n",
      "Epoch 316/500... Discriminator Loss: 0.8832... Generator Loss: 1.7832\n",
      "Epoch 317/500... Discriminator Loss: 1.0571... Generator Loss: 1.6371\n",
      "Epoch 318/500... Discriminator Loss: 0.9948... Generator Loss: 1.6958\n",
      "Epoch 319/500... Discriminator Loss: 0.9502... Generator Loss: 2.0029\n",
      "Epoch 320/500... Discriminator Loss: 0.8714... Generator Loss: 2.1762\n",
      "Epoch 321/500... Discriminator Loss: 1.0404... Generator Loss: 2.3730\n",
      "Epoch 322/500... Discriminator Loss: 0.9727... Generator Loss: 1.6251\n",
      "Epoch 323/500... Discriminator Loss: 0.8785... Generator Loss: 2.0671\n",
      "Epoch 324/500... Discriminator Loss: 1.0590... Generator Loss: 1.6875\n",
      "Epoch 325/500... Discriminator Loss: 0.8287... Generator Loss: 2.0733\n",
      "Epoch 326/500... Discriminator Loss: 0.9236... Generator Loss: 2.1936\n",
      "Epoch 327/500... Discriminator Loss: 1.0005... Generator Loss: 1.6485\n",
      "Epoch 328/500... Discriminator Loss: 0.9035... Generator Loss: 1.6400\n",
      "Epoch 329/500... Discriminator Loss: 1.0413... Generator Loss: 1.8041\n",
      "Epoch 330/500... Discriminator Loss: 1.0646... Generator Loss: 1.7507\n",
      "Epoch 331/500... Discriminator Loss: 0.8497... Generator Loss: 2.3013\n",
      "Epoch 332/500... Discriminator Loss: 0.9030... Generator Loss: 2.0223\n",
      "Epoch 333/500... Discriminator Loss: 0.8515... Generator Loss: 2.2086\n",
      "Epoch 334/500... Discriminator Loss: 0.9635... Generator Loss: 1.5985\n",
      "Epoch 335/500... Discriminator Loss: 0.9623... Generator Loss: 2.2268\n",
      "Epoch 336/500... Discriminator Loss: 0.8184... Generator Loss: 2.5847\n",
      "Epoch 337/500... Discriminator Loss: 1.2135... Generator Loss: 1.4063\n",
      "Epoch 338/500... Discriminator Loss: 0.8869... Generator Loss: 2.2276\n",
      "Epoch 339/500... Discriminator Loss: 0.9892... Generator Loss: 2.3883\n",
      "Epoch 340/500... Discriminator Loss: 1.0498... Generator Loss: 1.5286\n",
      "Epoch 341/500... Discriminator Loss: 1.0101... Generator Loss: 1.8152\n",
      "Epoch 342/500... Discriminator Loss: 1.0509... Generator Loss: 1.8454\n",
      "Epoch 343/500... Discriminator Loss: 0.8965... Generator Loss: 2.2081\n",
      "Epoch 344/500... Discriminator Loss: 1.1174... Generator Loss: 2.1721\n",
      "Epoch 345/500... Discriminator Loss: 0.9492... Generator Loss: 2.9274\n",
      "Epoch 346/500... Discriminator Loss: 1.0236... Generator Loss: 1.6144\n",
      "Epoch 347/500... Discriminator Loss: 0.9907... Generator Loss: 1.9996\n",
      "Epoch 348/500... Discriminator Loss: 1.0282... Generator Loss: 2.0768\n",
      "Epoch 349/500... Discriminator Loss: 0.8233... Generator Loss: 1.9025\n",
      "Epoch 350/500... Discriminator Loss: 0.9650... Generator Loss: 2.0500\n",
      "Epoch 351/500... Discriminator Loss: 0.8876... Generator Loss: 2.1561\n",
      "Epoch 352/500... Discriminator Loss: 0.9428... Generator Loss: 2.0491\n",
      "Epoch 353/500... Discriminator Loss: 0.8694... Generator Loss: 2.3081\n",
      "Epoch 354/500... Discriminator Loss: 0.9386... Generator Loss: 1.9860\n",
      "Epoch 355/500... Discriminator Loss: 0.9590... Generator Loss: 1.9684\n",
      "Epoch 356/500... Discriminator Loss: 0.9166... Generator Loss: 2.4764\n",
      "Epoch 357/500... Discriminator Loss: 0.9518... Generator Loss: 2.5124\n",
      "Epoch 358/500... Discriminator Loss: 0.9152... Generator Loss: 1.8841\n",
      "Epoch 359/500... Discriminator Loss: 0.9454... Generator Loss: 2.1691\n",
      "Epoch 360/500... Discriminator Loss: 1.0258... Generator Loss: 1.5651\n",
      "Epoch 361/500... Discriminator Loss: 0.8993... Generator Loss: 2.2988\n",
      "Epoch 362/500... Discriminator Loss: 0.9495... Generator Loss: 1.9762\n",
      "Epoch 363/500... Discriminator Loss: 1.1400... Generator Loss: 2.0712\n",
      "Epoch 364/500... Discriminator Loss: 0.9573... Generator Loss: 2.0337\n",
      "Epoch 365/500... Discriminator Loss: 0.9959... Generator Loss: 2.5944\n",
      "Epoch 366/500... Discriminator Loss: 0.9417... Generator Loss: 1.9693\n",
      "Epoch 367/500... Discriminator Loss: 0.8760... Generator Loss: 2.0298\n",
      "Epoch 368/500... Discriminator Loss: 0.8629... Generator Loss: 2.0791\n",
      "Epoch 369/500... Discriminator Loss: 1.0568... Generator Loss: 1.8340\n",
      "Epoch 370/500... Discriminator Loss: 0.9028... Generator Loss: 1.9474\n",
      "Epoch 371/500... Discriminator Loss: 1.0775... Generator Loss: 1.9370\n",
      "Epoch 372/500... Discriminator Loss: 1.1343... Generator Loss: 2.1733\n",
      "Epoch 373/500... Discriminator Loss: 0.8919... Generator Loss: 2.1972\n",
      "Epoch 374/500... Discriminator Loss: 0.9409... Generator Loss: 2.2632\n",
      "Epoch 375/500... Discriminator Loss: 1.0501... Generator Loss: 2.0915\n",
      "Epoch 376/500... Discriminator Loss: 0.9908... Generator Loss: 1.8979\n",
      "Epoch 377/500... Discriminator Loss: 0.8666... Generator Loss: 2.2946\n",
      "Epoch 378/500... Discriminator Loss: 0.8648... Generator Loss: 2.2142\n",
      "Epoch 379/500... Discriminator Loss: 0.9643... Generator Loss: 1.5177\n",
      "Epoch 380/500... Discriminator Loss: 1.0484... Generator Loss: 1.8365\n",
      "Epoch 381/500... Discriminator Loss: 0.8507... Generator Loss: 2.0804\n",
      "Epoch 382/500... Discriminator Loss: 0.9995... Generator Loss: 2.2452\n",
      "Epoch 383/500... Discriminator Loss: 0.9017... Generator Loss: 2.4503\n",
      "Epoch 384/500... Discriminator Loss: 1.0161... Generator Loss: 1.6528\n",
      "Epoch 385/500... Discriminator Loss: 0.9145... Generator Loss: 2.0363\n",
      "Epoch 386/500... Discriminator Loss: 0.9063... Generator Loss: 2.1192\n",
      "Epoch 387/500... Discriminator Loss: 0.9157... Generator Loss: 1.7277\n",
      "Epoch 388/500... Discriminator Loss: 1.0336... Generator Loss: 1.5264\n",
      "Epoch 389/500... Discriminator Loss: 0.9398... Generator Loss: 1.9580\n",
      "Epoch 390/500... Discriminator Loss: 1.0387... Generator Loss: 1.9181\n",
      "Epoch 391/500... Discriminator Loss: 0.9425... Generator Loss: 1.9082\n",
      "Epoch 392/500... Discriminator Loss: 0.8642... Generator Loss: 2.6751\n",
      "Epoch 393/500... Discriminator Loss: 0.9510... Generator Loss: 1.6693\n",
      "Epoch 394/500... Discriminator Loss: 0.9080... Generator Loss: 2.0389\n",
      "Epoch 395/500... Discriminator Loss: 0.8180... Generator Loss: 2.1273\n",
      "Epoch 396/500... Discriminator Loss: 0.7823... Generator Loss: 2.4104\n",
      "Epoch 397/500... Discriminator Loss: 0.8315... Generator Loss: 2.0606\n",
      "Epoch 398/500... Discriminator Loss: 1.0396... Generator Loss: 1.9924\n",
      "Epoch 399/500... Discriminator Loss: 0.8467... Generator Loss: 1.9903\n",
      "Epoch 400/500... Discriminator Loss: 0.8461... Generator Loss: 1.8960\n",
      "Epoch 401/500... Discriminator Loss: 1.0004... Generator Loss: 1.9150\n",
      "Epoch 402/500... Discriminator Loss: 0.9171... Generator Loss: 1.8317\n",
      "Epoch 403/500... Discriminator Loss: 0.8939... Generator Loss: 2.0870\n",
      "Epoch 404/500... Discriminator Loss: 0.7460... Generator Loss: 2.7487\n",
      "Epoch 405/500... Discriminator Loss: 0.8279... Generator Loss: 2.5492\n",
      "Epoch 406/500... Discriminator Loss: 1.1144... Generator Loss: 1.7404\n",
      "Epoch 407/500... Discriminator Loss: 0.9691... Generator Loss: 1.7697\n",
      "Epoch 408/500... Discriminator Loss: 0.9836... Generator Loss: 1.9288\n",
      "Epoch 409/500... Discriminator Loss: 1.0434... Generator Loss: 1.6494\n",
      "Epoch 410/500... Discriminator Loss: 1.0790... Generator Loss: 1.8058\n",
      "Epoch 411/500... Discriminator Loss: 0.9397... Generator Loss: 1.6515\n",
      "Epoch 412/500... Discriminator Loss: 0.9940... Generator Loss: 2.1201\n",
      "Epoch 413/500... Discriminator Loss: 0.8747... Generator Loss: 2.3260\n",
      "Epoch 414/500... Discriminator Loss: 0.8010... Generator Loss: 2.4247\n",
      "Epoch 415/500... Discriminator Loss: 0.7568... Generator Loss: 2.5870\n",
      "Epoch 416/500... Discriminator Loss: 0.7860... Generator Loss: 2.5145\n",
      "Epoch 417/500... Discriminator Loss: 0.9108... Generator Loss: 1.8274\n",
      "Epoch 418/500... Discriminator Loss: 1.1282... Generator Loss: 1.8735\n",
      "Epoch 419/500... Discriminator Loss: 1.0977... Generator Loss: 2.1616\n",
      "Epoch 420/500... Discriminator Loss: 0.7529... Generator Loss: 2.5464\n",
      "Epoch 421/500... Discriminator Loss: 1.0431... Generator Loss: 1.9401\n",
      "Epoch 422/500... Discriminator Loss: 1.0350... Generator Loss: 1.9037\n",
      "Epoch 423/500... Discriminator Loss: 0.9319... Generator Loss: 2.0337\n",
      "Epoch 424/500... Discriminator Loss: 1.0485... Generator Loss: 1.9941\n",
      "Epoch 425/500... Discriminator Loss: 0.8757... Generator Loss: 2.2235\n",
      "Epoch 426/500... Discriminator Loss: 0.8989... Generator Loss: 1.7817\n",
      "Epoch 427/500... Discriminator Loss: 0.9467... Generator Loss: 2.1388\n",
      "Epoch 428/500... Discriminator Loss: 0.9731... Generator Loss: 1.5889\n",
      "Epoch 429/500... Discriminator Loss: 0.8217... Generator Loss: 2.1185\n",
      "Epoch 430/500... Discriminator Loss: 0.8034... Generator Loss: 1.8995\n",
      "Epoch 431/500... Discriminator Loss: 0.9017... Generator Loss: 1.9792\n",
      "Epoch 432/500... Discriminator Loss: 0.8401... Generator Loss: 2.1485\n",
      "Epoch 433/500... Discriminator Loss: 1.0346... Generator Loss: 1.8821\n",
      "Epoch 434/500... Discriminator Loss: 1.1470... Generator Loss: 1.5945\n",
      "Epoch 435/500... Discriminator Loss: 0.9139... Generator Loss: 2.1401\n",
      "Epoch 436/500... Discriminator Loss: 0.9517... Generator Loss: 2.0362\n",
      "Epoch 437/500... Discriminator Loss: 0.8752... Generator Loss: 1.7088\n",
      "Epoch 438/500... Discriminator Loss: 0.9042... Generator Loss: 2.2717\n",
      "Epoch 439/500... Discriminator Loss: 1.0067... Generator Loss: 1.7918\n",
      "Epoch 440/500... Discriminator Loss: 0.9621... Generator Loss: 2.2128\n",
      "Epoch 441/500... Discriminator Loss: 0.8821... Generator Loss: 3.0348\n",
      "Epoch 442/500... Discriminator Loss: 1.0480... Generator Loss: 1.8055\n",
      "Epoch 443/500... Discriminator Loss: 0.9532... Generator Loss: 1.9157\n",
      "Epoch 444/500... Discriminator Loss: 0.9802... Generator Loss: 2.7116\n",
      "Epoch 445/500... Discriminator Loss: 0.8372... Generator Loss: 2.3407\n",
      "Epoch 446/500... Discriminator Loss: 0.9747... Generator Loss: 1.9040\n",
      "Epoch 447/500... Discriminator Loss: 0.9303... Generator Loss: 2.4292\n",
      "Epoch 448/500... Discriminator Loss: 0.8446... Generator Loss: 2.3862\n",
      "Epoch 449/500... Discriminator Loss: 0.9699... Generator Loss: 1.9126\n",
      "Epoch 450/500... Discriminator Loss: 0.8609... Generator Loss: 2.0451\n",
      "Epoch 451/500... Discriminator Loss: 0.9853... Generator Loss: 1.9659\n",
      "Epoch 452/500... Discriminator Loss: 0.9294... Generator Loss: 2.1678\n",
      "Epoch 453/500... Discriminator Loss: 0.9425... Generator Loss: 1.7298\n",
      "Epoch 454/500... Discriminator Loss: 0.9426... Generator Loss: 1.9426\n",
      "Epoch 455/500... Discriminator Loss: 0.9399... Generator Loss: 1.9645\n",
      "Epoch 456/500... Discriminator Loss: 0.8007... Generator Loss: 2.2098\n",
      "Epoch 457/500... Discriminator Loss: 0.8133... Generator Loss: 2.0711\n",
      "Epoch 458/500... Discriminator Loss: 0.9231... Generator Loss: 2.2507\n",
      "Epoch 459/500... Discriminator Loss: 0.9137... Generator Loss: 2.2496\n",
      "Epoch 460/500... Discriminator Loss: 0.9705... Generator Loss: 2.6861\n",
      "Epoch 461/500... Discriminator Loss: 0.8737... Generator Loss: 2.1569\n",
      "Epoch 462/500... Discriminator Loss: 0.9655... Generator Loss: 1.6933\n",
      "Epoch 463/500... Discriminator Loss: 0.7868... Generator Loss: 2.3740\n",
      "Epoch 464/500... Discriminator Loss: 0.8735... Generator Loss: 2.0899\n",
      "Epoch 465/500... Discriminator Loss: 0.8799... Generator Loss: 2.0107\n",
      "Epoch 466/500... Discriminator Loss: 0.8395... Generator Loss: 2.3140\n",
      "Epoch 467/500... Discriminator Loss: 0.9337... Generator Loss: 1.7487\n",
      "Epoch 468/500... Discriminator Loss: 1.0118... Generator Loss: 1.9039\n",
      "Epoch 469/500... Discriminator Loss: 0.8543... Generator Loss: 1.8865\n",
      "Epoch 470/500... Discriminator Loss: 0.8863... Generator Loss: 2.3414\n",
      "Epoch 471/500... Discriminator Loss: 0.9086... Generator Loss: 2.4299\n",
      "Epoch 472/500... Discriminator Loss: 0.8707... Generator Loss: 2.0648\n",
      "Epoch 473/500... Discriminator Loss: 1.0257... Generator Loss: 1.8916\n",
      "Epoch 474/500... Discriminator Loss: 0.8597... Generator Loss: 1.8175\n",
      "Epoch 475/500... Discriminator Loss: 0.8151... Generator Loss: 2.5911\n",
      "Epoch 476/500... Discriminator Loss: 0.8826... Generator Loss: 2.2029\n",
      "Epoch 477/500... Discriminator Loss: 0.9008... Generator Loss: 1.7837\n",
      "Epoch 478/500... Discriminator Loss: 0.7865... Generator Loss: 2.2759\n",
      "Epoch 479/500... Discriminator Loss: 0.7433... Generator Loss: 1.9539\n",
      "Epoch 480/500... Discriminator Loss: 0.9842... Generator Loss: 2.2527\n",
      "Epoch 481/500... Discriminator Loss: 0.9141... Generator Loss: 2.6358\n",
      "Epoch 482/500... Discriminator Loss: 0.9678... Generator Loss: 1.7530\n",
      "Epoch 483/500... Discriminator Loss: 0.7796... Generator Loss: 2.5811\n",
      "Epoch 484/500... Discriminator Loss: 0.9201... Generator Loss: 2.1157\n",
      "Epoch 485/500... Discriminator Loss: 0.8797... Generator Loss: 2.2373\n",
      "Epoch 486/500... Discriminator Loss: 0.9041... Generator Loss: 2.3039\n",
      "Epoch 487/500... Discriminator Loss: 0.8859... Generator Loss: 2.0539\n",
      "Epoch 488/500... Discriminator Loss: 0.7821... Generator Loss: 2.0836\n",
      "Epoch 489/500... Discriminator Loss: 0.7709... Generator Loss: 2.2389\n",
      "Epoch 490/500... Discriminator Loss: 0.9119... Generator Loss: 2.1923\n",
      "Epoch 491/500... Discriminator Loss: 0.7380... Generator Loss: 2.1408\n",
      "Epoch 492/500... Discriminator Loss: 0.8944... Generator Loss: 2.1203\n",
      "Epoch 493/500... Discriminator Loss: 1.0819... Generator Loss: 1.9858\n",
      "Epoch 494/500... Discriminator Loss: 0.9772... Generator Loss: 1.8571\n",
      "Epoch 495/500... Discriminator Loss: 0.9069... Generator Loss: 2.1632\n",
      "Epoch 496/500... Discriminator Loss: 1.0280... Generator Loss: 2.0692\n",
      "Epoch 497/500... Discriminator Loss: 0.9482... Generator Loss: 1.9271\n",
      "Epoch 498/500... Discriminator Loss: 0.9790... Generator Loss: 1.8692\n",
      "Epoch 499/500... Discriminator Loss: 0.9004... Generator Loss: 2.7067\n",
      "Epoch 500/500... Discriminator Loss: 0.9894... Generator Loss: 1.8604\n"
     ]
    }
   ],
   "source": [
    "batch_size = 100\n",
    "epochs = 500\n",
    "samples = []\n",
    "losses = []\n",
    "# Only save generator variables\n",
    "saver = tf.train.Saver(var_list=g_vars)\n",
    "with tf.Session() as sess:\n",
    "    sess.run(tf.global_variables_initializer())\n",
    "    for e in range(epochs):\n",
    "        for ii in range(mnist.train.num_examples//batch_size):\n",
    "            batch = mnist.train.next_batch(batch_size)\n",
    "            \n",
    "            # Get images, reshape and rescale to pass to D\n",
    "            batch_images = batch[0].reshape((batch_size, 784))\n",
    "            batch_images = batch_images*2 - 1\n",
    "            \n",
    "            # Sample random noise for G\n",
    "            batch_z = np.random.uniform(-1, 1, size=(batch_size, z_size))\n",
    "            \n",
    "            # Run optimizers\n",
    "            _ = sess.run(d_train_opt, feed_dict={input_real: batch_images, input_z: batch_z})\n",
    "            _ = sess.run(g_train_opt, feed_dict={input_z: batch_z})\n",
    "        \n",
    "        # At the end of each epoch, get the losses and print them out\n",
    "        train_loss_d = sess.run(d_loss, {input_z: batch_z, input_real: batch_images})\n",
    "        train_loss_g = g_loss.eval({input_z: batch_z})\n",
    "            \n",
    "        print(\"Epoch {}/{}...\".format(e+1, epochs),\n",
    "              \"Discriminator Loss: {:.4f}...\".format(train_loss_d),\n",
    "              \"Generator Loss: {:.4f}\".format(train_loss_g))    \n",
    "        # Save losses to view after training\n",
    "        losses.append((train_loss_d, train_loss_g))\n",
    "        \n",
    "        # Sample from generator as we're training for viewing afterwards\n",
    "        sample_z = np.random.uniform(-1, 1, size=(16, z_size))\n",
    "        gen_samples = sess.run(\n",
    "                       generator(input_z, input_size, n_units=g_hidden_size, reuse=True, alpha=alpha),\n",
    "                       feed_dict={input_z: sample_z})\n",
    "        samples.append(gen_samples)\n",
    "        saver.save(sess, './checkpoints/generator.ckpt')\n",
    "\n",
    "# Save training generator samples\n",
    "with open('train_samples.pkl', 'wb') as f:\n",
    "    pkl.dump(samples, f)"
   ]
  },
  {
   "cell_type": "markdown",
   "metadata": {
    "deletable": true,
    "editable": true
   },
   "source": [
    "## Training loss\n",
    "\n",
    "Here we'll check out the training losses for the generator and discriminator."
   ]
  },
  {
   "cell_type": "code",
   "execution_count": 11,
   "metadata": {
    "collapsed": false,
    "deletable": true,
    "editable": true
   },
   "outputs": [
    {
     "data": {
      "text/plain": [
       "<matplotlib.legend.Legend at 0x11a5cfac8>"
      ]
     },
     "execution_count": 11,
     "metadata": {},
     "output_type": "execute_result"
    },
    {
     "data": {
      "image/png": "[encoded data removed]",
      "text/plain": [
       "<matplotlib.figure.Figure at 0x11f1b9f60>"
      ]
     },
     "metadata": {},
     "output_type": "display_data"
    }
   ],
   "source": [
    "fig, ax = plt.subplots()\n",
    "losses = np.array(losses)\n",
    "plt.plot(losses.T[0], label='Discriminator')\n",
    "plt.plot(losses.T[1], label='Generator')\n",
    "plt.title(\"Training Losses\")\n",
    "plt.legend()"
   ]
  },
  {
   "cell_type": "markdown",
   "metadata": {
    "deletable": true,
    "editable": true
   },
   "source": [
    "## Generator samples from training\n",
    "\n",
    "Here we can view samples of images from the generator. First we'll look at images taken while training."
   ]
  },
  {
   "cell_type": "code",
   "execution_count": 12,
   "metadata": {
    "collapsed": true,
    "deletable": true,
    "editable": true
   },
   "outputs": [],
   "source": [
    "def view_samples(epoch, samples):\n",
    "    fig, axes = plt.subplots(figsize=(7,7), nrows=4, ncols=4, sharey=True, sharex=True)\n",
    "    for ax, img in zip(axes.flatten(), samples[epoch]):\n",
    "        \n",
    "        ax.xaxis.set_visible(False)\n",
    "        ax.yaxis.set_visible(False)\n",
    "        im = ax.imshow(img.reshape((28,28)), cmap='Greys_r')\n",
    "    \n",
    "    return fig, axes"
   ]
  },
  {
   "cell_type": "code",
   "execution_count": 13,
   "metadata": {
    "collapsed": true,
    "deletable": true,
    "editable": true
   },
   "outputs": [],
   "source": [
    "# Load samples from generator taken while training\n",
    "with open('train_samples.pkl', 'rb') as f:\n",
    "    samples = pkl.load(f)"
   ]
  },
  {
   "cell_type": "markdown",
   "metadata": {
    "deletable": true,
    "editable": true
   },
   "source": [
    "These are samples from the final training epoch. You can see the generator is able to reproduce numbers like 1, 7, 3, 2. Since this is just a sample, it isn't representative of the full range of images this generator can make."
   ]
  },
  {
   "cell_type": "code",
   "execution_count": 14,
   "metadata": {
    "collapsed": false,
    "deletable": true,
    "editable": true
   },
   "outputs": [
    {
     "data": {
      "image/png": "[encoded data removed]",
      "text/plain": [
       "<matplotlib.figure.Figure at 0x119bed6a0>"
      ]
     },
     "metadata": {},
     "output_type": "display_data"
    }
   ],
   "source": [
    "_ = view_samples(-1, samples)"
   ]
  },
  {
   "cell_type": "markdown",
   "metadata": {
    "deletable": true,
    "editable": true
   },
   "source": [
    "Below I'm showing the generated images as the network was training, every 10 epochs. With bonus optical illusion!"
   ]
  },
  {
   "cell_type": "code",
   "execution_count": 15,
   "metadata": {
    "collapsed": false,
    "deletable": true,
    "editable": true
   },
   "outputs": [
    {
     "data": {
      "image/png": "[encoded data removed]",
      "text/plain": [
       "<matplotlib.figure.Figure at 0x119c403c8>"
      ]
     },
     "metadata": {},
     "output_type": "display_data"
    }
   ],
   "source": [
    "rows, cols = 10, 6\n",
    "fig, axes = plt.subplots(figsize=(7,12), nrows=rows, ncols=cols, sharex=True, sharey=True)\n",
    "\n",
    "for sample, ax_row in zip(samples[::int(len(samples)/rows)], axes):\n",
    "    for img, ax in zip(sample[::int(len(sample)/cols)], ax_row):\n",
    "\n",
    "        ax.imshow(img.reshape((28,28)), cmap='Greys_r')\n",
    "        ax.xaxis.set_visible(False)\n",
    "        ax.yaxis.set_visible(False)"
   ]
  },
  {
   "cell_type": "markdown",
   "metadata": {
    "deletable": true,
    "editable": true
   },
   "source": [
    "It starts out as all noise. Then it learns to make only the center white and the rest black. You can start to see some number like structures appear out of the noise like 1s and 9s."
   ]
  },
  {
   "cell_type": "markdown",
   "metadata": {
    "deletable": true,
    "editable": true
   },
   "source": [
    "## Sampling from the generator\n",
    "\n",
    "We can also get completely new images from the generator by using the checkpoint we saved after training. We just need to pass in a new latent vector $z$ and we'll get new samples!"
   ]
  },
  {
   "cell_type": "code",
   "execution_count": 16,
   "metadata": {
    "collapsed": false,
    "deletable": true,
    "editable": true
   },
   "outputs": [
    {
     "data": {
      "image/png": "[encoded data removed]",
      "text/plain": [
       "<matplotlib.figure.Figure at 0x11f5a3b00>"
      ]
     },
     "metadata": {},
     "output_type": "display_data"
    }
   ],
   "source": [
    "saver = tf.train.Saver(var_list=g_vars)\n",
    "with tf.Session() as sess:\n",
    "\n",
    "    saver.restore(sess, tf.train.latest_checkpoint('checkpoints'))\n",
    "    sample_z = np.random.uniform(-1, 1, size=(16, z_size))\n",
    "\n",
    "    gen_samples = sess.run(\n",
    "        generator(input_z, input_size, n_units=g_hidden_size, reuse=True, alpha=alpha),\n",
    "        feed_dict={input_z: sample_z}\n",
    "    )\n",
    "    \n",
    "_ = view_samples(0, [gen_samples])"
   ]
  }
 ],
 "metadata": {
  "kernelspec": {
   "display_name": "Python 3",
   "language": "python",
   "name": "python3"
  },
  "language_info": {
   "codemirror_mode": {
    "name": "ipython",
    "version": 3
   },
   "file_extension": ".py",
   "mimetype": "text/x-python",
   "name": "python",
   "nbconvert_exporter": "python",
   "pygments_lexer": "ipython3",
   "version": "3.5.3"
  }
 },
 "nbformat": 4,
 "nbformat_minor": 2
}
