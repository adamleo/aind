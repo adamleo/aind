{
 "cells": [
  {
   "cell_type": "code",
   "execution_count": 9,
   "metadata": {},
   "outputs": [],
   "source": [
    "import socket\n",
    "import numpy as np\n",
    "\n",
    "from tqdm import tqdm\n",
    "from keras.preprocessing import image    \n",
    "from keras.applications.resnet50 import ResNet50\n",
    "from keras.applications.resnet50 import preprocess_input, decode_predictions\n",
    "\n",
    "base_folder = \"/mnt/my_own_stuff/aind/\" if socket.gethostname() == \"monsta\" else \"/Users/hongru.liu/Documents/ml/ai_nd/term_2/P1-dog_project-Adam_liu/\""
   ]
  },
  {
   "cell_type": "code",
   "execution_count": 4,
   "metadata": {},
   "outputs": [],
   "source": [
    "# define ResNet50 model\n",
    "ResNet50_model = ResNet50(weights='imagenet')"
   ]
  },
  {
   "cell_type": "code",
   "execution_count": 3,
   "metadata": {
    "collapsed": true
   },
   "outputs": [],
   "source": [
    "def path_to_tensor(img_path):\n",
    "\n",
    "    # loads RGB image as PIL.Image.Image type\n",
    "    img = image.load_img(img_path, target_size=(224, 224))\n",
    "    # convert PIL.Image.Image type to 3D tensor with shape (224, 224, 3)\n",
    "    x = image.img_to_array(img)\n",
    "    # convert 3D tensor to 4D tensor with shape (1, 224, 224, 3) and return 4D tensor\n",
    "    return np.expand_dims(x, axis=0)\n",
    "\n",
    "def paths_to_tensor(img_paths):\n",
    "\n",
    "    list_of_tensors = [path_to_tensor(img_path) for img_path in tqdm(img_paths)]\n",
    "    return np.vstack(list_of_tensors)"
   ]
  },
  {
   "cell_type": "code",
   "execution_count": 5,
   "metadata": {
    "collapsed": true
   },
   "outputs": [],
   "source": [
    "def ResNet50_predict_labels(img_path):\n",
    "\n",
    "    # returns prediction vector for image located at img_path\n",
    "    img = preprocess_input(path_to_tensor(img_path))\n",
    "    return np.argmax(ResNet50_model.predict(img))"
   ]
  },
  {
   "cell_type": "code",
   "execution_count": 6,
   "metadata": {
    "collapsed": true
   },
   "outputs": [],
   "source": [
    "### returns \"True\" if a dog is detected in the image stored at img_path\n",
    "def dog_detector(img_path):\n",
    "    \n",
    "    prediction = ResNet50_predict_labels(img_path)\n",
    "    return ((prediction <= 268) & (prediction >= 151)) "
   ]
  },
  {
   "cell_type": "code",
   "execution_count": 10,
   "metadata": {},
   "outputs": [
    {
     "name": "stdout",
     "output_type": "stream",
     "text": [
      "[True, True, True, True, True, True]\n",
      "[True, True, True, True, True, True]\n",
      "[True, True, True, True, True, True]\n",
      "[True, True, True, True, True, True]\n",
      "[True, True, True, True, True, True]\n",
      "[True, True, True, True, True, True]\n"
     ]
    }
   ],
   "source": [
    "#@ check the accuracy of the dog detector\n",
    "\n",
    "import os\n",
    "import random\n",
    "\n",
    "dog_pic_list = []\n",
    "\n",
    "mainfolder = base_folder + \"dogImages/train\"\n",
    "subfolders = [random.choice(os.listdir(mainfolder)) for _ in range(6)]\n",
    "\n",
    "for subfolder in subfolders:\n",
    "    if subfolder[0] != \".\":\n",
    "        folder = os.path.join(mainfolder, subfolder)\n",
    "        dog_image_name = random.choice(os.listdir(folder))\n",
    "        dog_pic_list.append([subfolder, dog_image_name])\n",
    "\n",
    "for i in range(6):\n",
    "    lst = []\n",
    "    for di in dog_pic_list:\n",
    "        lst.append(dog_detector(os.path.join(mainfolder, di[0], di[1])))\n",
    "    print(lst)"
   ]
  },
  {
   "cell_type": "code",
   "execution_count": null,
   "metadata": {
    "collapsed": true
   },
   "outputs": [],
   "source": []
  }
 ],
 "metadata": {
  "kernelspec": {
   "display_name": "Python 3",
   "language": "python",
   "name": "python3"
  },
  "language_info": {
   "codemirror_mode": {
    "name": "ipython",
    "version": 3
   },
   "file_extension": ".py",
   "mimetype": "text/x-python",
   "name": "python",
   "nbconvert_exporter": "python",
   "pygments_lexer": "ipython3",
   "version": "3.6.4"
  }
 },
 "nbformat": 4,
 "nbformat_minor": 2
}
